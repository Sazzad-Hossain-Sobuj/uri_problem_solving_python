{
  "nbformat": 4,
  "nbformat_minor": 0,
  "metadata": {
    "colab": {
      "provenance": [],
      "authorship_tag": "ABX9TyMRbrhvOILZtDe/Jl/36oXm",
      "include_colab_link": true
    },
    "kernelspec": {
      "name": "python3",
      "display_name": "Python 3"
    },
    "language_info": {
      "name": "python"
    }
  },
  "cells": [
    {
      "cell_type": "markdown",
      "metadata": {
        "id": "view-in-github",
        "colab_type": "text"
      },
      "source": [
        "<a href=\"https://colab.research.google.com/github/Sazzad-Hossain-Sobuj/uri_problem_solving_python/blob/master/Uri_1064.ipynb\" target=\"_parent\"><img src=\"https://colab.research.google.com/assets/colab-badge.svg\" alt=\"Open In Colab\"/></a>"
      ]
    },
    {
      "cell_type": "code",
      "execution_count": 6,
      "metadata": {
        "colab": {
          "base_uri": "https://localhost:8080/"
        },
        "id": "YNMj-sM2K0f7",
        "outputId": "64fea386-cdf7-4a16-906a-fb1312e9fc55"
      },
      "outputs": [
        {
          "output_type": "stream",
          "name": "stdout",
          "text": [
            "5\n",
            "3\n",
            "2\n",
            "4\n",
            "1\n",
            "-3\n",
            "5 valores positivos\n",
            "3.0\n"
          ]
        }
      ],
      "source": [
        "count = 0\n",
        "sum = 0\n",
        "for i in range(6):\n",
        "  n = float(input())\n",
        "  if n>0:\n",
        "    count = count+1\n",
        "    sum = sum+n\n",
        "    \n",
        "print(f'{count} valores positivos')\n",
        "print(f'{sum/count:0.1f}')"
      ]
    }
  ]
}