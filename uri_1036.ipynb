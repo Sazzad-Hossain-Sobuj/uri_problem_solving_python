{
  "nbformat": 4,
  "nbformat_minor": 0,
  "metadata": {
    "colab": {
      "provenance": [],
      "authorship_tag": "ABX9TyP2KWDJJ4YAr826zkfKvo8x",
      "include_colab_link": true
    },
    "kernelspec": {
      "name": "python3",
      "display_name": "Python 3"
    },
    "language_info": {
      "name": "python"
    }
  },
  "cells": [
    {
      "cell_type": "markdown",
      "metadata": {
        "id": "view-in-github",
        "colab_type": "text"
      },
      "source": [
        "<a href=\"https://colab.research.google.com/github/Sazzad-Hossain-Sobuj/uri_problem_solving_python/blob/master/uri_1036.ipynb\" target=\"_parent\"><img src=\"https://colab.research.google.com/assets/colab-badge.svg\" alt=\"Open In Colab\"/></a>"
      ]
    },
    {
      "cell_type": "code",
      "source": [
        "A,B,C = list(map(float,input().split()))\n",
        "\n",
        "value = (B**2-4*A*C)\n",
        "if A==0 or value<0:\n",
        "  print('Impossivel calcular')\n",
        "else:\n",
        "  x1 = (-B+value**0.50)/(2*A)\n",
        "  x2 = (-B-value**0.50)/(2*A)\n",
        "  print(f'R1 = {x1:0.05f}')\n",
        "  print(f'R2 = {x2:0.05f}')\n"
      ],
      "metadata": {
        "colab": {
          "base_uri": "https://localhost:8080/"
        },
        "id": "hPORasTnU23m",
        "outputId": "66f5bb6e-5318-4852-a73b-49630206eb9a"
      },
      "execution_count": 16,
      "outputs": [
        {
          "output_type": "stream",
          "name": "stdout",
          "text": [
            "10 20.1 5.1\n",
            "R1 = -0.29788\n",
            "R2 = -1.71212\n"
          ]
        }
      ]
    },
    {
      "cell_type": "code",
      "execution_count": null,
      "metadata": {
        "id": "-qjnsmTjUt5C"
      },
      "outputs": [],
      "source": []
    }
  ]
}