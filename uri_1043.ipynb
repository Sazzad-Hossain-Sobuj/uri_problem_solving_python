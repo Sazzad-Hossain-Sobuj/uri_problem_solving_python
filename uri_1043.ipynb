{
  "nbformat": 4,
  "nbformat_minor": 0,
  "metadata": {
    "colab": {
      "provenance": [],
      "authorship_tag": "ABX9TyPHYlW6GyLj05QCkxcz8/18",
      "include_colab_link": true
    },
    "kernelspec": {
      "name": "python3",
      "display_name": "Python 3"
    },
    "language_info": {
      "name": "python"
    }
  },
  "cells": [
    {
      "cell_type": "markdown",
      "metadata": {
        "id": "view-in-github",
        "colab_type": "text"
      },
      "source": [
        "<a href=\"https://colab.research.google.com/github/Sazzad-Hossain-Sobuj/uri_problem_solving_python/blob/master/uri_1043.ipynb\" target=\"_parent\"><img src=\"https://colab.research.google.com/assets/colab-badge.svg\" alt=\"Open In Colab\"/></a>"
      ]
    },
    {
      "cell_type": "code",
      "execution_count": 5,
      "metadata": {
        "id": "TLCmdDdFB9P-",
        "colab": {
          "base_uri": "https://localhost:8080/"
        },
        "outputId": "6850ffdf-d6a0-4257-e8ec-67c4b1713e2c"
      },
      "outputs": [
        {
          "output_type": "stream",
          "name": "stdout",
          "text": [
            "6.0 4.0 2.1\n",
            "Perimetro = 12.1\n"
          ]
        }
      ],
      "source": [
        "A,B,C = map(float,input().split())\n",
        "if(A<B+C and B<A+C and C<A+B):\n",
        "  print(f'Perimetro = {(A+B+C):0.1f}')\n",
        "else:\n",
        "  print(f'Area = {(0.5*(A+B)*C):0.1f}')  "
      ]
    },
    {
      "cell_type": "code",
      "source": [],
      "metadata": {
        "id": "GQzW1EloE8yM"
      },
      "execution_count": null,
      "outputs": []
    }
  ]
}