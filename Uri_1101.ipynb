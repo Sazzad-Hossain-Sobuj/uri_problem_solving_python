{
  "nbformat": 4,
  "nbformat_minor": 0,
  "metadata": {
    "colab": {
      "provenance": [],
      "authorship_tag": "ABX9TyMxNNnBEr+3vB6/lqESTrDv",
      "include_colab_link": true
    },
    "kernelspec": {
      "name": "python3",
      "display_name": "Python 3"
    },
    "language_info": {
      "name": "python"
    }
  },
  "cells": [
    {
      "cell_type": "markdown",
      "metadata": {
        "id": "view-in-github",
        "colab_type": "text"
      },
      "source": [
        "<a href=\"https://colab.research.google.com/github/Sazzad-Hossain-Sobuj/uri_problem_solving_python/blob/master/Uri_1101.ipynb\" target=\"_parent\"><img src=\"https://colab.research.google.com/assets/colab-badge.svg\" alt=\"Open In Colab\"/></a>"
      ]
    },
    {
      "cell_type": "code",
      "source": [
        "while(True):\n",
        "    try:\n",
        "        a,b=list(map(int,input().split()))\n",
        "        x = min(a,b)\n",
        "        y = max(a,b)\n",
        "        if(a<=0 or b<=0):\n",
        "            break\n",
        "        else:\n",
        "            sum=0\n",
        "            result = ''\n",
        "            for i in range(x,y+1):\n",
        "                result += str(i)+' '\n",
        "                sum = sum + i\n",
        "            result+= 'Sum=%d'\n",
        "            print(result %sum)\n",
        "    except EOFError:\n",
        "        break"
      ],
      "metadata": {
        "colab": {
          "base_uri": "https://localhost:8080/"
        },
        "id": "vmijtbjfv5CV",
        "outputId": "c89a9d40-ecc1-4b41-88f7-c07194aed3c3"
      },
      "execution_count": 8,
      "outputs": [
        {
          "name": "stdout",
          "output_type": "stream",
          "text": [
            "27 12\n",
            "12 13 14 15 16 17 18 19 20 21 22 23 24 25 26 27 Sum=312\n",
            "0 1\n"
          ]
        }
      ]
    }
  ]
}