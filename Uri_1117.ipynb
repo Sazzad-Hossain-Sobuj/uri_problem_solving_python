{
  "nbformat": 4,
  "nbformat_minor": 0,
  "metadata": {
    "colab": {
      "provenance": [],
      "authorship_tag": "ABX9TyNYs4UqwiqnK6QXBKhnw3cL",
      "include_colab_link": true
    },
    "kernelspec": {
      "name": "python3",
      "display_name": "Python 3"
    },
    "language_info": {
      "name": "python"
    }
  },
  "cells": [
    {
      "cell_type": "markdown",
      "metadata": {
        "id": "view-in-github",
        "colab_type": "text"
      },
      "source": [
        "<a href=\"https://colab.research.google.com/github/Sazzad-Hossain-Sobuj/uri_problem_solving_python/blob/master/Uri_1117.ipynb\" target=\"_parent\"><img src=\"https://colab.research.google.com/assets/colab-badge.svg\" alt=\"Open In Colab\"/></a>"
      ]
    },
    {
      "cell_type": "code",
      "execution_count": 3,
      "metadata": {
        "colab": {
          "base_uri": "https://localhost:8080/"
        },
        "id": "15xKme86gwNV",
        "outputId": "9ac7afdb-f980-4893-8d5e-8bf5387c56b9"
      },
      "outputs": [
        {
          "output_type": "stream",
          "name": "stdout",
          "text": [
            "-3.5\n",
            "nota invalida\n",
            "3.5\n",
            "11.0\n",
            "nota invalida\n",
            "10.0\n",
            "12\n",
            "media = 6.75\n"
          ]
        }
      ],
      "source": [
        "c=0\n",
        "s=0\n",
        "avg=0\n",
        "while(True):\n",
        "  n=float(input())\n",
        "  if(c==2):\n",
        "    break\n",
        "  if(n>=0 and n<=10 ):\n",
        "    c+=1\n",
        "    s+=n\n",
        "  else:\n",
        "    print('nota invalida')\n",
        "avg=s/2\n",
        "print(f'media = {avg:02}')"
      ]
    }
  ]
}