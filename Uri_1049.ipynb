{
  "nbformat": 4,
  "nbformat_minor": 0,
  "metadata": {
    "colab": {
      "provenance": [],
      "authorship_tag": "ABX9TyO10aLDtEb+PTz4MJ8koFqr",
      "include_colab_link": true
    },
    "kernelspec": {
      "name": "python3",
      "display_name": "Python 3"
    },
    "language_info": {
      "name": "python"
    }
  },
  "cells": [
    {
      "cell_type": "markdown",
      "metadata": {
        "id": "view-in-github",
        "colab_type": "text"
      },
      "source": [
        "<a href=\"https://colab.research.google.com/github/Sazzad-Hossain-Sobuj/uri_problem_solving_python/blob/master/Uri_1049.ipynb\" target=\"_parent\"><img src=\"https://colab.research.google.com/assets/colab-badge.svg\" alt=\"Open In Colab\"/></a>"
      ]
    },
    {
      "cell_type": "code",
      "execution_count": 12,
      "metadata": {
        "colab": {
          "base_uri": "https://localhost:8080/"
        },
        "id": "rbgh6xLX4Uba",
        "outputId": "3c32bbf3-0623-4f87-e53c-139300c79b26"
      },
      "outputs": [
        {
          "output_type": "stream",
          "name": "stdout",
          "text": [
            "vertebrado\n",
            "mamifero\n",
            "onivoro\n",
            "homem\n"
          ]
        }
      ],
      "source": [
        "a = input()\n",
        "b = input()\n",
        "c = input()\n",
        "\n",
        "if a=='vertebrado':\n",
        "  if b=='ave':\n",
        "    if c=='carnivoro':\n",
        "      print('aguia')\n",
        "    else:\n",
        "      print('pomba') \n",
        "  else:\n",
        "    if b=='mamifero':\n",
        "     if c=='onivoro':\n",
        "      print('homem')\n",
        "     else:\n",
        "      print('vaca')  \n",
        "else:\n",
        "  if b=='inseto':\n",
        "    if c=='hematofago':\n",
        "      print('pulga')\n",
        "    else:\n",
        "      print('lagarta')  \n",
        "  else:\n",
        "    if b=='anelideo':\n",
        "      if c=='hematofago':\n",
        "        print('sanguessuga')\n",
        "      else:\n",
        "        print('minhoca')        \n",
        "\n",
        "\n",
        "\n",
        "\n",
        "\n"
      ]
    },
    {
      "cell_type": "code",
      "source": [
        "a = input()\n",
        "b = input()\n",
        "c = input()\n",
        "\n",
        "if a=='vertebrado':\n",
        "  if b=='ave':\n",
        "    if c=='carnivoro':\n",
        "      print('aguia')\n",
        "    else:\n",
        "      print('pomba') \n",
        "  else:\n",
        "     if c=='onivoro':\n",
        "      print('homem')\n",
        "     else:\n",
        "      print('vaca')  \n",
        "else:\n",
        "  if b=='inseto':\n",
        "    if c=='hematofago':\n",
        "      print('pulga')\n",
        "    else:\n",
        "      print('lagarta')  \n",
        "  else:\n",
        "      if c=='hematofago':\n",
        "        print('sanguessuga')\n",
        "      else:\n",
        "        print('minhoca')        \n"
      ],
      "metadata": {
        "colab": {
          "base_uri": "https://localhost:8080/"
        },
        "id": "ZNEKP4J5_7YK",
        "outputId": "fcc10dcb-9bce-4509-dead-3cf41855e4f0"
      },
      "execution_count": 13,
      "outputs": [
        {
          "output_type": "stream",
          "name": "stdout",
          "text": [
            "invertebrado\n",
            "anelideo\n",
            "onivoro\n",
            "minhoca\n"
          ]
        }
      ]
    }
  ]
}