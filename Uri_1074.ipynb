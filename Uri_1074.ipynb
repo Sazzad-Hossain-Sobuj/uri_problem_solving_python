{
  "nbformat": 4,
  "nbformat_minor": 0,
  "metadata": {
    "colab": {
      "provenance": [],
      "authorship_tag": "ABX9TyPGU4dlvC60oERVqtosKj/K",
      "include_colab_link": true
    },
    "kernelspec": {
      "name": "python3",
      "display_name": "Python 3"
    },
    "language_info": {
      "name": "python"
    }
  },
  "cells": [
    {
      "cell_type": "markdown",
      "metadata": {
        "id": "view-in-github",
        "colab_type": "text"
      },
      "source": [
        "<a href=\"https://colab.research.google.com/github/Sazzad-Hossain-Sobuj/uri_problem_solving_python/blob/master/Uri_1074.ipynb\" target=\"_parent\"><img src=\"https://colab.research.google.com/assets/colab-badge.svg\" alt=\"Open In Colab\"/></a>"
      ]
    },
    {
      "cell_type": "code",
      "execution_count": 2,
      "metadata": {
        "colab": {
          "base_uri": "https://localhost:8080/"
        },
        "id": "H-5x_UUeE8Ro",
        "outputId": "052ddcef-8021-4b5a-92fa-1c35b9650fd4"
      },
      "outputs": [
        {
          "output_type": "stream",
          "name": "stdout",
          "text": [
            "4\n",
            "-5\n",
            "ODD NEGATIVE\n",
            "0\n",
            "NULL\n",
            "3\n",
            "ODD POSITIVE\n",
            "-4\n",
            "EVEN NEGATIVE\n"
          ]
        }
      ],
      "source": [
        "N = int(input())\n",
        "for i in range(N):\n",
        "  val = int(input())\n",
        "  if(val<0):\n",
        "    if(val%2==0):\n",
        "      print('EVEN NEGATIVE')\n",
        "    else:\n",
        "      print('ODD NEGATIVE')\n",
        "  elif(val>0):\n",
        "    if(val%2==0):\n",
        "      print('EVEN POSITIVE')\n",
        "    else:\n",
        "      print('ODD POSITIVE')\n",
        "  else:\n",
        "    print('NULL')"
      ]
    }
  ]
}