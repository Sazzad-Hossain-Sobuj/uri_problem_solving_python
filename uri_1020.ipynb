{
  "nbformat": 4,
  "nbformat_minor": 0,
  "metadata": {
    "colab": {
      "provenance": [],
      "authorship_tag": "ABX9TyPaN8JFCHSw8JAEXUqrDX0e",
      "include_colab_link": true
    },
    "kernelspec": {
      "name": "python3",
      "display_name": "Python 3"
    },
    "language_info": {
      "name": "python"
    }
  },
  "cells": [
    {
      "cell_type": "markdown",
      "metadata": {
        "id": "view-in-github",
        "colab_type": "text"
      },
      "source": [
        "<a href=\"https://colab.research.google.com/github/Sazzad-Hossain-Sobuj/uri_problem_solving_python/blob/master/uri_1020.ipynb\" target=\"_parent\"><img src=\"https://colab.research.google.com/assets/colab-badge.svg\" alt=\"Open In Colab\"/></a>"
      ]
    },
    {
      "cell_type": "code",
      "execution_count": 5,
      "metadata": {
        "colab": {
          "base_uri": "https://localhost:8080/"
        },
        "id": "t24JcYs54qPp",
        "outputId": "ef5301c6-3579-4c36-a23e-9ea3105bb5cb"
      },
      "outputs": [
        {
          "output_type": "stream",
          "name": "stdout",
          "text": [
            "800\n",
            "2 ano(s)\n",
            "2 mes(es)\n",
            "10 dia(s)\n"
          ]
        }
      ],
      "source": [
        "n = int(input())\n",
        "year = n//365\n",
        "month = (n%365)//30\n",
        "day = (n%365)%30\n",
        "print(year,'ano(s)')\n",
        "print(month,'mes(es)')\n",
        "print(day,'dia(s)')"
      ]
    }
  ]
}