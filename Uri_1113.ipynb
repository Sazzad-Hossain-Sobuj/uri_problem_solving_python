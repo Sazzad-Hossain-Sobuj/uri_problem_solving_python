{
  "nbformat": 4,
  "nbformat_minor": 0,
  "metadata": {
    "colab": {
      "provenance": [],
      "authorship_tag": "ABX9TyNHCWTDnjezx/GGCseDtSi9",
      "include_colab_link": true
    },
    "kernelspec": {
      "name": "python3",
      "display_name": "Python 3"
    },
    "language_info": {
      "name": "python"
    }
  },
  "cells": [
    {
      "cell_type": "markdown",
      "metadata": {
        "id": "view-in-github",
        "colab_type": "text"
      },
      "source": [
        "<a href=\"https://colab.research.google.com/github/Sazzad-Hossain-Sobuj/uri_problem_solving_python/blob/master/Uri_1113.ipynb\" target=\"_parent\"><img src=\"https://colab.research.google.com/assets/colab-badge.svg\" alt=\"Open In Colab\"/></a>"
      ]
    },
    {
      "cell_type": "code",
      "source": [
        "while(True):\n",
        "    try:\n",
        "        a,b=list(map(int,input().split()))\n",
        "        if(a==b):\n",
        "            break\n",
        "        else:\n",
        "            if(a<b):\n",
        "                print(\"Crescente\")\n",
        "            else:\n",
        "                print(\"Decrescente\")\n",
        "    except EOFError:\n",
        "        break"
      ],
      "metadata": {
        "colab": {
          "base_uri": "https://localhost:8080/"
        },
        "id": "FpwDfShsIxkt",
        "outputId": "a195a27d-3798-4624-d58b-0484087a07b5"
      },
      "execution_count": 2,
      "outputs": [
        {
          "name": "stdout",
          "output_type": "stream",
          "text": [
            "4 6\n",
            "Crescente\n",
            "5 2\n",
            "Decrescente\n",
            "2 2\n"
          ]
        }
      ]
    }
  ]
}