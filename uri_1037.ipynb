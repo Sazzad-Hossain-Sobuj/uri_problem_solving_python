{
  "nbformat": 4,
  "nbformat_minor": 0,
  "metadata": {
    "colab": {
      "provenance": [],
      "authorship_tag": "ABX9TyPnwfU7L1ERLAmTH+AWLagE",
      "include_colab_link": true
    },
    "kernelspec": {
      "name": "python3",
      "display_name": "Python 3"
    },
    "language_info": {
      "name": "python"
    }
  },
  "cells": [
    {
      "cell_type": "markdown",
      "metadata": {
        "id": "view-in-github",
        "colab_type": "text"
      },
      "source": [
        "<a href=\"https://colab.research.google.com/github/Sazzad-Hossain-Sobuj/uri_problem_solving_python/blob/master/uri_1037.ipynb\" target=\"_parent\"><img src=\"https://colab.research.google.com/assets/colab-badge.svg\" alt=\"Open In Colab\"/></a>"
      ]
    },
    {
      "cell_type": "code",
      "execution_count": 7,
      "metadata": {
        "id": "THrUQzrFbm2R",
        "colab": {
          "base_uri": "https://localhost:8080/"
        },
        "outputId": "e6d27509-4153-4d7c-eb91-d30dca510d3b"
      },
      "outputs": [
        {
          "output_type": "stream",
          "name": "stdout",
          "text": [
            "100.0\n",
            "Intervalo (75,100)]\n"
          ]
        }
      ],
      "source": [
        "n = float(input())\n",
        "if(n<0 or n>100):\n",
        "     print(\"Fora de intervalo\")\n",
        "elif(n<=25):\n",
        "     print(\"Intervalo [0,25]\")\n",
        "elif(n<=50):\n",
        "     print(\"Intervalo (25,50]\")\n",
        "elif (n<=75):\n",
        "     print(\"Intervalo (50,75]\")\n",
        "elif (n<=100):\n",
        "     print(\"Intervalo (75,100]\")\n",
        "\n"
      ]
    }
  ]
}