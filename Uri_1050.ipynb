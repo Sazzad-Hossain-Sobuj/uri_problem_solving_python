{
  "nbformat": 4,
  "nbformat_minor": 0,
  "metadata": {
    "colab": {
      "provenance": [],
      "authorship_tag": "ABX9TyM4avNNuizmQ/mlRH89yO5d",
      "include_colab_link": true
    },
    "kernelspec": {
      "name": "python3",
      "display_name": "Python 3"
    },
    "language_info": {
      "name": "python"
    }
  },
  "cells": [
    {
      "cell_type": "markdown",
      "metadata": {
        "id": "view-in-github",
        "colab_type": "text"
      },
      "source": [
        "<a href=\"https://colab.research.google.com/github/Sazzad-Hossain-Sobuj/uri_problem_solving_python/blob/master/Uri_1050.ipynb\" target=\"_parent\"><img src=\"https://colab.research.google.com/assets/colab-badge.svg\" alt=\"Open In Colab\"/></a>"
      ]
    },
    {
      "cell_type": "code",
      "execution_count": 16,
      "metadata": {
        "colab": {
          "base_uri": "https://localhost:8080/"
        },
        "id": "iOISf8J7gxMr",
        "outputId": "7803b065-df46-44f2-d1ef-f28e2a7ccb4b"
      },
      "outputs": [
        {
          "output_type": "stream",
          "name": "stdout",
          "text": [
            "61\n",
            "Brasilia\n"
          ]
        }
      ],
      "source": [
        "a=int(input())\n",
        "\n",
        "dic={\n",
        "    61:'Brasilia',\n",
        "    71:'Salvador',\n",
        "    11:'Sao Paulo',\n",
        "    21:'Rio de Janeiro',\n",
        "    32:'Juiz de Fora',\n",
        "    19:'Campinas',\n",
        "    27:'Vitoria',\n",
        "    31:'Belo Horisonte'\n",
        "}\n",
        "if a in dic:\n",
        "  print(dic[a])\n",
        "else:\n",
        "  print('DDD nao cadastrado')  \n"
      ]
    },
    {
      "cell_type": "code",
      "source": [
        "n=int(input())\n",
        "if(n == 61):\n",
        "    print(\"Brasilia\")\n",
        "elif (n == 71):\n",
        "    print(\"Salvador\")\n",
        "elif(n == 11):\n",
        "    print(\"Sao Paulo\")\n",
        "elif(n == 21):\n",
        "    print(\"Rio de Janeiro\")\n",
        "elif(n == 32):\n",
        "    print(\"Juiz de Fora\")\n",
        "elif(n == 19):\n",
        "    print(\"Campinas\")\n",
        "elif(n == 27):\n",
        "    print(\"Vitoria\")\n",
        "elif(n == 31):\n",
        "    print(\"Belo Horizonte\")\n",
        "else:\n",
        "    print(\"DDD nao cadastrado\")"
      ],
      "metadata": {
        "id": "Xratv-2itW5X"
      },
      "execution_count": null,
      "outputs": []
    }
  ]
}