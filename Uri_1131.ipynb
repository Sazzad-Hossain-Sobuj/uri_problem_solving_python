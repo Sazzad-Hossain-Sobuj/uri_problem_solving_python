{
  "nbformat": 4,
  "nbformat_minor": 0,
  "metadata": {
    "colab": {
      "provenance": [],
      "authorship_tag": "ABX9TyOyIKBN5YXReAyqzAYP7ssA",
      "include_colab_link": true
    },
    "kernelspec": {
      "name": "python3",
      "display_name": "Python 3"
    },
    "language_info": {
      "name": "python"
    }
  },
  "cells": [
    {
      "cell_type": "markdown",
      "metadata": {
        "id": "view-in-github",
        "colab_type": "text"
      },
      "source": [
        "<a href=\"https://colab.research.google.com/github/Sazzad-Hossain-Sobuj/uri_problem_solving_python/blob/master/Uri_1131.ipynb\" target=\"_parent\"><img src=\"https://colab.research.google.com/assets/colab-badge.svg\" alt=\"Open In Colab\"/></a>"
      ]
    },
    {
      "cell_type": "code",
      "execution_count": 1,
      "metadata": {
        "colab": {
          "base_uri": "https://localhost:8080/"
        },
        "id": "_L84Zpp0MEB8",
        "outputId": "392f358c-2bf4-4d5d-f685-d763bd956071"
      },
      "outputs": [
        {
          "output_type": "stream",
          "name": "stdout",
          "text": [
            "3 2\n",
            "Novo grenal (1-sim 2-nao)\n",
            "1\n",
            "2 3\n",
            "Novo grenal (1-sim 2-nao)\n",
            "1\n",
            "3 1\n",
            "Novo grenal (1-sim 2-nao)\n",
            "2\n",
            "3 grenais\n",
            "Inter:2\n",
            "Gremio:1\n",
            "Empates:0\n",
            "Inter venceu mais\n"
          ]
        }
      ],
      "source": [
        "l = 0\n",
        "k = 0\n",
        "j = 0\n",
        "c = 0\n",
        "d = 0\n",
        "e = 0\n",
        "while True:\n",
        "    a,b = list(map(int,input().split()))\n",
        "    if(a>b):\n",
        "        l=l+1\n",
        "    if(a<b):\n",
        "        k=k+1\n",
        "    if(a==b):\n",
        "        j=j+1\n",
        "    c+=a\n",
        "    d+=b\n",
        "    e=e+1\n",
        "    print(\"Novo grenal (1-sim 2-nao)\")\n",
        "    n = int(input())\n",
        "    if(n==1):\n",
        "        continue\n",
        "    if(n==2):\n",
        "        break\n",
        "print(\"{} grenais\".format(e))\n",
        "print(\"Inter:{}\".format(l))\n",
        "print(\"Gremio:{}\".format(k))\n",
        "print(\"Empates:{}\".format(j))\n",
        "if(l>k):\n",
        "    print(\"Inter venceu mais\")\n",
        "if(l<k):\n",
        "    print(\"Gremio venceu mais\")\n",
        "if(k==l):\n",
        "        print(\"Nao houve vencedor\")"
      ]
    }
  ]
}