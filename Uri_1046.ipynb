{
  "nbformat": 4,
  "nbformat_minor": 0,
  "metadata": {
    "colab": {
      "provenance": [],
      "authorship_tag": "ABX9TyOTOD2IoihLra9QIyorFw6F",
      "include_colab_link": true
    },
    "kernelspec": {
      "name": "python3",
      "display_name": "Python 3"
    },
    "language_info": {
      "name": "python"
    }
  },
  "cells": [
    {
      "cell_type": "markdown",
      "metadata": {
        "id": "view-in-github",
        "colab_type": "text"
      },
      "source": [
        "<a href=\"https://colab.research.google.com/github/Sazzad-Hossain-Sobuj/uri_problem_solving_python/blob/master/Uri_1046.ipynb\" target=\"_parent\"><img src=\"https://colab.research.google.com/assets/colab-badge.svg\" alt=\"Open In Colab\"/></a>"
      ]
    },
    {
      "cell_type": "code",
      "execution_count": null,
      "metadata": {
        "colab": {
          "base_uri": "https://localhost:8080/"
        },
        "id": "tBLVGT7lXbQs",
        "outputId": "8c75d06f-0b33-46fb-c272-251133947fe1"
      },
      "outputs": [
        {
          "output_type": "stream",
          "name": "stdout",
          "text": [
            "0 0\n",
            "O JOGO DUROU 24 HORA(S)\n"
          ]
        }
      ],
      "source": [
        "a,b=list(map(int,input().split()))\n",
        "if(a<b):\n",
        "    time=b-a\n",
        "else:\n",
        "    time=b+24-a\n",
        "print(\"O JOGO DUROU {} HORA(S)\".format(time))"
      ]
    },
    {
      "cell_type": "code",
      "source": [
        "a,b = map(int,input().split())\n",
        "if(a<b):\n",
        "  print(f'O JOGO DUROU {b-a} HORA(S)')\n",
        "else:\n",
        "  print(f'O JOGO DUROU {b+24-a} HORA(S)')\n",
        "\n"
      ],
      "metadata": {
        "colab": {
          "base_uri": "https://localhost:8080/"
        },
        "id": "t3g8u_huYiH-",
        "outputId": "70c39870-d312-45a7-e9bb-07d9439a8b29"
      },
      "execution_count": 6,
      "outputs": [
        {
          "output_type": "stream",
          "name": "stdout",
          "text": [
            "0 0 \n",
            "O JOGO DUROU 24 HORA(S)\n"
          ]
        }
      ]
    },
    {
      "cell_type": "code",
      "source": [
        "a,b = map(int,input().split())\n",
        "if(a<b):\n",
        "  time = b-a\n",
        "  print('O JOGO DUROU {} HORA(S)'.format(time))\n",
        "else:\n",
        "  time = (b+24)-a\n",
        "  print('O JOGO DUROU {} HORA(S)'.format(time))"
      ],
      "metadata": {
        "colab": {
          "base_uri": "https://localhost:8080/"
        },
        "id": "YjnSaoPQjEDH",
        "outputId": "c2a9b0d6-e916-4631-f120-ad8c260ab466"
      },
      "execution_count": 13,
      "outputs": [
        {
          "output_type": "stream",
          "name": "stdout",
          "text": [
            "10 4\n",
            "O JOGO DUROU 18 HORA(S)\n"
          ]
        }
      ]
    }
  ]
}