{
  "nbformat": 4,
  "nbformat_minor": 0,
  "metadata": {
    "colab": {
      "provenance": [],
      "authorship_tag": "ABX9TyOvcevFwVR9vSNz8iUAYR26",
      "include_colab_link": true
    },
    "kernelspec": {
      "name": "python3",
      "display_name": "Python 3"
    },
    "language_info": {
      "name": "python"
    }
  },
  "cells": [
    {
      "cell_type": "markdown",
      "metadata": {
        "id": "view-in-github",
        "colab_type": "text"
      },
      "source": [
        "<a href=\"https://colab.research.google.com/github/Sazzad-Hossain-Sobuj/uri_problem_solving_python/blob/master/Uri_1133.ipynb\" target=\"_parent\"><img src=\"https://colab.research.google.com/assets/colab-badge.svg\" alt=\"Open In Colab\"/></a>"
      ]
    },
    {
      "cell_type": "code",
      "execution_count": 1,
      "metadata": {
        "colab": {
          "base_uri": "https://localhost:8080/"
        },
        "id": "vfjW8FJA1qv2",
        "outputId": "0430481c-92fc-4ce2-c2d1-63ac08526eca"
      },
      "outputs": [
        {
          "output_type": "stream",
          "name": "stdout",
          "text": [
            "10\n",
            "18\n",
            "12\n",
            "13\n",
            "17\n"
          ]
        }
      ],
      "source": [
        "X=int(input())\n",
        "Y=int(input())\n",
        "t = X\n",
        "if (X > Y):\n",
        "    X = Y\n",
        "    Y = t\n",
        "while (X < Y):\n",
        "    X += 1\n",
        "    if (X % 5 == 2 or X % 5 == 3 and X != Y):\n",
        "        print(X)"
      ]
    }
  ]
}