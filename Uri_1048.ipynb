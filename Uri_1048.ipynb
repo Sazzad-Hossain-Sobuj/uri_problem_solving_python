{
  "nbformat": 4,
  "nbformat_minor": 0,
  "metadata": {
    "colab": {
      "provenance": [],
      "authorship_tag": "ABX9TyPmOkxlnu3ZDn/q/RZeSihl",
      "include_colab_link": true
    },
    "kernelspec": {
      "name": "python3",
      "display_name": "Python 3"
    },
    "language_info": {
      "name": "python"
    }
  },
  "cells": [
    {
      "cell_type": "markdown",
      "metadata": {
        "id": "view-in-github",
        "colab_type": "text"
      },
      "source": [
        "<a href=\"https://colab.research.google.com/github/Sazzad-Hossain-Sobuj/uri_problem_solving_python/blob/master/Uri_1048.ipynb\" target=\"_parent\"><img src=\"https://colab.research.google.com/assets/colab-badge.svg\" alt=\"Open In Colab\"/></a>"
      ]
    },
    {
      "cell_type": "code",
      "execution_count": 17,
      "metadata": {
        "colab": {
          "base_uri": "https://localhost:8080/"
        },
        "id": "nSfxuDYmnR5U",
        "outputId": "df5d1679-cb00-4612-d1e9-54bb4f41bdce"
      },
      "outputs": [
        {
          "output_type": "stream",
          "name": "stdout",
          "text": [
            "800.01\n",
            "Novo salario: 880.01\n",
            "Reajuste ganho: 80.00\n",
            "Em percentual: 10 %\n"
          ]
        }
      ],
      "source": [
        "salary = float(input())\n",
        "if salary<=400:\n",
        "  percentage=15\n",
        "elif salary<=800:\n",
        "  percentage=12\n",
        "elif salary<=1200:\n",
        "  percentage=10\n",
        "elif salary<=2000:\n",
        "  percentage=7\n",
        "else:\n",
        "  percentage=4\n",
        "  \n",
        "earn = salary*percentage/100\n",
        "newsalary = salary+earn\n",
        "\n",
        "print(f'''Novo salario: {newsalary:0.2f}\n",
        "Reajuste ganho: {earn:0.2f}\n",
        "Em percentual: {percentage} %''')"
      ]
    }
  ]
}