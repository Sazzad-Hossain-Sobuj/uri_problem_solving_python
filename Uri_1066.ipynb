{
  "nbformat": 4,
  "nbformat_minor": 0,
  "metadata": {
    "colab": {
      "provenance": [],
      "authorship_tag": "ABX9TyN3wLcv/5nNWbcOLE6jVbFy",
      "include_colab_link": true
    },
    "kernelspec": {
      "name": "python3",
      "display_name": "Python 3"
    },
    "language_info": {
      "name": "python"
    }
  },
  "cells": [
    {
      "cell_type": "markdown",
      "metadata": {
        "id": "view-in-github",
        "colab_type": "text"
      },
      "source": [
        "<a href=\"https://colab.research.google.com/github/Sazzad-Hossain-Sobuj/uri_problem_solving_python/blob/master/Uri_1066.ipynb\" target=\"_parent\"><img src=\"https://colab.research.google.com/assets/colab-badge.svg\" alt=\"Open In Colab\"/></a>"
      ]
    },
    {
      "cell_type": "code",
      "execution_count": 6,
      "metadata": {
        "colab": {
          "base_uri": "https://localhost:8080/"
        },
        "id": "ht9486atfwT9",
        "outputId": "61760e0d-6540-4abf-f616-eeddc7dece73"
      },
      "outputs": [
        {
          "output_type": "stream",
          "name": "stdout",
          "text": [
            "-5\n",
            "0\n",
            "-3\n",
            "-4\n",
            "12\n",
            "3 valor(es) par(es)\n",
            "2 valor(es) impar(es)\n",
            "1 valor(es) positivo(s)\n",
            "3 valor(es) negativo(s)\n"
          ]
        }
      ],
      "source": [
        "even = 0\n",
        "odd = 0\n",
        "positive = 0 \n",
        "negative = 0\n",
        "for i in range(5):\n",
        "  n = int(input())\n",
        "  if n%2==0:\n",
        "    even+=1\n",
        "  else:\n",
        "    odd+=1\n",
        "  if n>0:\n",
        "    positive+=1\n",
        "  elif n<0:\n",
        "    negative+=1\n",
        "print(f'''{even} valor(es) par(es)\n",
        "{odd} valor(es) impar(es)\n",
        "{positive} valor(es) positivo(s)\n",
        "{negative} valor(es) negativo(s)''')"
      ]
    }
  ]
}