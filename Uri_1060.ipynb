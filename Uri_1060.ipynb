{
  "nbformat": 4,
  "nbformat_minor": 0,
  "metadata": {
    "colab": {
      "provenance": [],
      "authorship_tag": "ABX9TyO2nNf25dpemM1xlWUqCX99",
      "include_colab_link": true
    },
    "kernelspec": {
      "name": "python3",
      "display_name": "Python 3"
    },
    "language_info": {
      "name": "python"
    }
  },
  "cells": [
    {
      "cell_type": "markdown",
      "metadata": {
        "id": "view-in-github",
        "colab_type": "text"
      },
      "source": [
        "<a href=\"https://colab.research.google.com/github/Sazzad-Hossain-Sobuj/uri_problem_solving_python/blob/master/Uri_1060.ipynb\" target=\"_parent\"><img src=\"https://colab.research.google.com/assets/colab-badge.svg\" alt=\"Open In Colab\"/></a>"
      ]
    },
    {
      "cell_type": "code",
      "execution_count": null,
      "metadata": {
        "colab": {
          "base_uri": "https://localhost:8080/"
        },
        "id": "U7FLUSGIAkhs",
        "outputId": "21062b41-923a-4e23-8323-d866a8db99ab"
      },
      "outputs": [
        {
          "output_type": "stream",
          "name": "stdout",
          "text": [
            "0 \n",
            "1\n",
            "2\n",
            "-8\n",
            "-5\n",
            "-6\n",
            "2 valores positivos\n"
          ]
        }
      ],
      "source": [
        "count=0\n",
        "for i in range(6):\n",
        "    n = float(input())\n",
        "    if(n>0):\n",
        "        count=count+1\n",
        "print(f'{count} valores positivos')"
      ]
    }
  ]
}