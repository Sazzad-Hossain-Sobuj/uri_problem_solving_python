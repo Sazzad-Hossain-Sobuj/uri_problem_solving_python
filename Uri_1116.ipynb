{
  "nbformat": 4,
  "nbformat_minor": 0,
  "metadata": {
    "colab": {
      "provenance": [],
      "authorship_tag": "ABX9TyN1pqEC2PGj5EYWFOXBdS9u",
      "include_colab_link": true
    },
    "kernelspec": {
      "name": "python3",
      "display_name": "Python 3"
    },
    "language_info": {
      "name": "python"
    }
  },
  "cells": [
    {
      "cell_type": "markdown",
      "metadata": {
        "id": "view-in-github",
        "colab_type": "text"
      },
      "source": [
        "<a href=\"https://colab.research.google.com/github/Sazzad-Hossain-Sobuj/uri_problem_solving_python/blob/master/Uri_1116.ipynb\" target=\"_parent\"><img src=\"https://colab.research.google.com/assets/colab-badge.svg\" alt=\"Open In Colab\"/></a>"
      ]
    },
    {
      "cell_type": "code",
      "execution_count": 1,
      "metadata": {
        "colab": {
          "base_uri": "https://localhost:8080/"
        },
        "id": "28br5PBiQJWN",
        "outputId": "6d846283-ad15-4214-e80a-cb4af72f5823"
      },
      "outputs": [
        {
          "output_type": "stream",
          "name": "stdout",
          "text": [
            "3\n",
            "3 -2\n",
            "-1.5\n",
            "-8 0\n",
            "divisao impossivel\n",
            "0 8\n",
            "0.0\n"
          ]
        }
      ],
      "source": [
        "N = int(input())\n",
        "for i in range(N):\n",
        "  X,Y=list(map(int,input().split()))\n",
        "  if(Y==0):\n",
        "    print('divisao impossivel')\n",
        "  else:\n",
        "    print(f'{X/Y}')\n",
        "\n",
        ""
      ]
    },
    {
      "cell_type": "code",
      "source": [
        "N = int(input())\n",
        "i=0\n",
        "while(i<=N-1):\n",
        "  X,Y=list(map(int,input().split()))\n",
        "  if(Y==0):\n",
        "    print('divisao impossivel')\n",
        "  else:\n",
        "    print(f'{X/Y}')\n",
        "\n",
        "  i+=1"
      ],
      "metadata": {
        "colab": {
          "base_uri": "https://localhost:8080/"
        },
        "id": "REKyioy5Rt2c",
        "outputId": "cb478566-cab3-465b-d959-fcc96c873f6c"
      },
      "execution_count": 5,
      "outputs": [
        {
          "output_type": "stream",
          "name": "stdout",
          "text": [
            "3 \n",
            "3 -2\n",
            "-1.5\n",
            "-8 0\n",
            "divisao impossivel\n",
            "0 2\n",
            "0.0\n"
          ]
        }
      ]
    }
  ]
}