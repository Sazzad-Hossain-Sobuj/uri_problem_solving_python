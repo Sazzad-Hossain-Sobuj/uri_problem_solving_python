{
  "nbformat": 4,
  "nbformat_minor": 0,
  "metadata": {
    "colab": {
      "provenance": [],
      "authorship_tag": "ABX9TyMD0HmuN4mdfdEyqUz9FMRL",
      "include_colab_link": true
    },
    "kernelspec": {
      "name": "python3",
      "display_name": "Python 3"
    },
    "language_info": {
      "name": "python"
    }
  },
  "cells": [
    {
      "cell_type": "markdown",
      "metadata": {
        "id": "view-in-github",
        "colab_type": "text"
      },
      "source": [
        "<a href=\"https://colab.research.google.com/github/Sazzad-Hossain-Sobuj/uri_problem_solving_python/blob/master/Uri_1052.ipynb\" target=\"_parent\"><img src=\"https://colab.research.google.com/assets/colab-badge.svg\" alt=\"Open In Colab\"/></a>"
      ]
    },
    {
      "cell_type": "code",
      "execution_count": 2,
      "metadata": {
        "colab": {
          "base_uri": "https://localhost:8080/"
        },
        "id": "5KK_5aHXud44",
        "outputId": "160b9a99-66b1-4bb9-efe1-07a796c3c1d1"
      },
      "outputs": [
        {
          "output_type": "stream",
          "name": "stdout",
          "text": [
            "12\n",
            "December\n"
          ]
        }
      ],
      "source": [
        "n = int(input())\n",
        "dic = {\n",
        "    1:'January',\n",
        "    2:'February',\n",
        "    3:'March',\n",
        "    4:'April',\n",
        "    5:'May',\n",
        "    6:'June',\n",
        "    7:'July',\n",
        "    8:'August',\n",
        "    9:'September',\n",
        "    10:'October',\n",
        "    11:'November',\n",
        "    12:'December'\n",
        "}\n",
        "if n in dic:\n",
        "  print(dic[n])"
      ]
    }
  ]
}