{
  "nbformat": 4,
  "nbformat_minor": 0,
  "metadata": {
    "colab": {
      "provenance": [],
      "authorship_tag": "ABX9TyOEuMIc5gWiRTtL+SDJj9wV",
      "include_colab_link": true
    },
    "kernelspec": {
      "name": "python3",
      "display_name": "Python 3"
    },
    "language_info": {
      "name": "python"
    }
  },
  "cells": [
    {
      "cell_type": "markdown",
      "metadata": {
        "id": "view-in-github",
        "colab_type": "text"
      },
      "source": [
        "<a href=\"https://colab.research.google.com/github/Sazzad-Hossain-Sobuj/uri_problem_solving_python/blob/master/Uri_1118.ipynb\" target=\"_parent\"><img src=\"https://colab.research.google.com/assets/colab-badge.svg\" alt=\"Open In Colab\"/></a>"
      ]
    },
    {
      "cell_type": "code",
      "execution_count": 1,
      "metadata": {
        "colab": {
          "base_uri": "https://localhost:8080/"
        },
        "id": "z21xJRljo7yC",
        "outputId": "94c43d13-bfd2-45a0-a568-fd982b22363f"
      },
      "outputs": [
        {
          "name": "stdout",
          "output_type": "stream",
          "text": [
            "-3.5\n",
            "nota invalida\n",
            "3.5\n",
            "11.0\n",
            "nota invalida\n",
            "10.0\n",
            "media = 6.75\n",
            "novo calculo (1-sim 2-nao)\n",
            "4\n",
            "novo calculo (1-sim 2-nao)\n",
            "1\n",
            "8.0\n",
            "9.0\n",
            "media = 8.5\n",
            "novo calculo (1-sim 2-nao)\n",
            "2\n"
          ]
        }
      ],
      "source": [
        "while True:\n",
        "    s = 0\n",
        "    q = 0\n",
        "    while (q< 2):\n",
        "        n= float(input())\n",
        "        if (n >= 0 and n <= 10):\n",
        "            s += n\n",
        "            q += 1\n",
        "        else:\n",
        "            print(\"nota invalida\")\n",
        "    print(\"media = %.2f\" % (s / 2))\n",
        "    t = 0\n",
        "    while True:\n",
        "        print(\"novo calculo (1-sim 2-nao)\")\n",
        "        t= int(input())\n",
        "        if (t == 1 or t== 2):\n",
        "            break\n",
        "    if (t == 2):\n",
        "        break"
      ]
    }
  ]
}