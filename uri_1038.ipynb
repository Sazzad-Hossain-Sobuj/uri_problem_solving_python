{
  "nbformat": 4,
  "nbformat_minor": 0,
  "metadata": {
    "colab": {
      "provenance": [],
      "authorship_tag": "ABX9TyOl14fFfi8vlGKCX8eYsSPi",
      "include_colab_link": true
    },
    "kernelspec": {
      "name": "python3",
      "display_name": "Python 3"
    },
    "language_info": {
      "name": "python"
    }
  },
  "cells": [
    {
      "cell_type": "markdown",
      "metadata": {
        "id": "view-in-github",
        "colab_type": "text"
      },
      "source": [
        "<a href=\"https://colab.research.google.com/github/Sazzad-Hossain-Sobuj/uri_problem_solving_python/blob/master/uri_1038.ipynb\" target=\"_parent\"><img src=\"https://colab.research.google.com/assets/colab-badge.svg\" alt=\"Open In Colab\"/></a>"
      ]
    },
    {
      "cell_type": "code",
      "execution_count": 1,
      "metadata": {
        "colab": {
          "base_uri": "https://localhost:8080/"
        },
        "id": "6nOmgYe_bKE_",
        "outputId": "37676238-4bc9-40a2-929f-88603217670c"
      },
      "outputs": [
        {
          "output_type": "stream",
          "name": "stdout",
          "text": [
            "3 2\n",
            "Total: R$ 10.00\n"
          ]
        }
      ],
      "source": [
        "X,Y=list(map(int,input().split()))\n",
        "if(X == 1):\n",
        "    price  = (float) (4.00 * Y)\n",
        "elif(X == 2):\n",
        "    price  = (float) (4.50 * Y)\n",
        "elif(X == 3):\n",
        "    price  = (float) (5.00 * Y)\n",
        "elif (X == 4):\n",
        "    price  = (float) (2.00 * Y);\n",
        "elif (X == 5):\n",
        "    price  = (float) (1.50 * Y)\n",
        "print(\"Total: R$ %.2f\"%price)"
      ]
    }
  ]
}