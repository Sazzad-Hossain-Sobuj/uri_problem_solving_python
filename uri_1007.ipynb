{
  "nbformat": 4,
  "nbformat_minor": 0,
  "metadata": {
    "colab": {
      "provenance": [],
      "authorship_tag": "ABX9TyMZ+/VXiq54atpsE1pUxkyu",
      "include_colab_link": true
    },
    "kernelspec": {
      "name": "python3",
      "display_name": "Python 3"
    },
    "language_info": {
      "name": "python"
    }
  },
  "cells": [
    {
      "cell_type": "markdown",
      "metadata": {
        "id": "view-in-github",
        "colab_type": "text"
      },
      "source": [
        "<a href=\"https://colab.research.google.com/github/Sazzad-Hossain-Sobuj/uri_problem_solving_python/blob/master/uri_1007.ipynb\" target=\"_parent\"><img src=\"https://colab.research.google.com/assets/colab-badge.svg\" alt=\"Open In Colab\"/></a>"
      ]
    },
    {
      "cell_type": "code",
      "execution_count": null,
      "metadata": {
        "id": "xZ-z5Tp_Pxws"
      },
      "outputs": [],
      "source": [
        "A = int(input())\n",
        "B = int(input())\n",
        "C = int(input())\n",
        "D = int(input())\n",
        "DIFERENCA = (A * B - C * D)\n",
        "print(\"DIFERENCA = %i\" %DIFERENCA)"
      ]
    }
  ]
}