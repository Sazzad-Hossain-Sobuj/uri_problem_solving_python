{
  "nbformat": 4,
  "nbformat_minor": 0,
  "metadata": {
    "colab": {
      "provenance": [],
      "authorship_tag": "ABX9TyNcXJ7S/uE/WNALbdxnWXUL",
      "include_colab_link": true
    },
    "kernelspec": {
      "name": "python3",
      "display_name": "Python 3"
    },
    "language_info": {
      "name": "python"
    }
  },
  "cells": [
    {
      "cell_type": "markdown",
      "metadata": {
        "id": "view-in-github",
        "colab_type": "text"
      },
      "source": [
        "<a href=\"https://colab.research.google.com/github/Sazzad-Hossain-Sobuj/uri_problem_solving_python/blob/master/Uri_1051.ipynb\" target=\"_parent\"><img src=\"https://colab.research.google.com/assets/colab-badge.svg\" alt=\"Open In Colab\"/></a>"
      ]
    },
    {
      "cell_type": "code",
      "execution_count": 8,
      "metadata": {
        "colab": {
          "base_uri": "https://localhost:8080/"
        },
        "id": "gaVsH4qDLLA5",
        "outputId": "3f12af57-ca4a-4211-d4cd-fe19aa383d25"
      },
      "outputs": [
        {
          "output_type": "stream",
          "name": "stdout",
          "text": [
            "4520.00\n",
            "R$ 355.60\n"
          ]
        }
      ],
      "source": [
        "s = float(input())\n",
        "if s<=2000:\n",
        "  print('Isento')\n",
        "elif s>2000 and s<=3000:\n",
        "  s=s-2000\n",
        "  taxes=s*0.08\n",
        "  print(f'R$ {taxes:0.2f}')\n",
        "elif s>3000 and s<=4500:\n",
        "  s=s-3000\n",
        "  taxes=s*0.18+80\n",
        "  print(f'R$ {taxes:0.2f}')\n",
        "elif s>4500:\n",
        "  s=s-4500\n",
        "  taxes=s*0.28+350\n",
        "  print(f'R$ {taxes:0.2f}')"
      ]
    }
  ]
}