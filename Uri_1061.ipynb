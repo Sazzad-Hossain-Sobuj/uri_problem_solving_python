{
  "nbformat": 4,
  "nbformat_minor": 0,
  "metadata": {
    "colab": {
      "provenance": [],
      "authorship_tag": "ABX9TyNWDMicTSwycyRj+fh8Ph3s",
      "include_colab_link": true
    },
    "kernelspec": {
      "name": "python3",
      "display_name": "Python 3"
    },
    "language_info": {
      "name": "python"
    }
  },
  "cells": [
    {
      "cell_type": "markdown",
      "metadata": {
        "id": "view-in-github",
        "colab_type": "text"
      },
      "source": [
        "<a href=\"https://colab.research.google.com/github/Sazzad-Hossain-Sobuj/uri_problem_solving_python/blob/master/Uri_1061.ipynb\" target=\"_parent\"><img src=\"https://colab.research.google.com/assets/colab-badge.svg\" alt=\"Open In Colab\"/></a>"
      ]
    },
    {
      "cell_type": "code",
      "execution_count": null,
      "metadata": {
        "colab": {
          "base_uri": "https://localhost:8080/"
        },
        "id": "SRfcIsWT2Gy4",
        "outputId": "6de58ffb-a03e-4aba-89a4-f10a4e2747a7"
      },
      "outputs": [
        {
          "output_type": "stream",
          "name": "stdout",
          "text": [
            "dia 5\n",
            "08 : 12 : 23\n",
            "dia 9\n",
            "06 : 13 : 23\n",
            "3 dia(s)\n",
            "22 hora(s)\n",
            "1 minuto(s)\n",
            "0 segundo(s)\n"
          ]
        }
      ],
      "source": [
        "d1 = int(input().split()[-1])\n",
        "h1,m1,s1 = map(int,input().split(' : '))\n",
        "\n",
        "d2 = int(input().split()[-1])\n",
        "h2,m2,s2 = map(int,input().split(' : '))\n",
        "\n",
        "d = d2-d1\n",
        "h = h2-h1\n",
        "m = m2-m1\n",
        "s = s2-s1\n",
        "\n",
        "if s<0:\n",
        "  s = s+60\n",
        "  m = m-1\n",
        "if m<0:\n",
        "  m = m+60\n",
        "  h = h-1\n",
        "if h<0:\n",
        "  h = h+24\n",
        "  d = d-1\n",
        "print(f'''{d} dia(s)\n",
        "{h} hora(s)\n",
        "{m} minuto(s)\n",
        "{s} segundo(s)''')\n",
        " \n"
      ]
    }
  ]
}