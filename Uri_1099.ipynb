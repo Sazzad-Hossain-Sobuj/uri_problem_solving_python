{
  "nbformat": 4,
  "nbformat_minor": 0,
  "metadata": {
    "colab": {
      "provenance": [],
      "authorship_tag": "ABX9TyNsxfgd5TLmpAMF+79EnRNn",
      "include_colab_link": true
    },
    "kernelspec": {
      "name": "python3",
      "display_name": "Python 3"
    },
    "language_info": {
      "name": "python"
    }
  },
  "cells": [
    {
      "cell_type": "markdown",
      "metadata": {
        "id": "view-in-github",
        "colab_type": "text"
      },
      "source": [
        "<a href=\"https://colab.research.google.com/github/Sazzad-Hossain-Sobuj/uri_problem_solving_python/blob/master/Uri_1099.ipynb\" target=\"_parent\"><img src=\"https://colab.research.google.com/assets/colab-badge.svg\" alt=\"Open In Colab\"/></a>"
      ]
    },
    {
      "cell_type": "code",
      "source": [
        "N=int(input())\n",
        "for i in range(N):\n",
        "  a,b=list(map(int,input().split()))\n",
        "  sum = 0\n",
        "  if a==b:\n",
        "    print(0)\n",
        "  elif a<b:\n",
        "       a+=1\n",
        "       while(a<b):\n",
        "         if(a%2!=0):\n",
        "          sum+=a\n",
        "         a+=1\n",
        "       print(sum)\n",
        "  else:\n",
        "    if a>b:\n",
        "      a-=1\n",
        "      while(a>b):\n",
        "        if(a%2!=0):\n",
        "          sum+=a\n",
        "        a-=1\n",
        "      print(sum)\n",
        "\n",
        "\n"
      ],
      "metadata": {
        "colab": {
          "base_uri": "https://localhost:8080/"
        },
        "id": "Tky-tzU6AQ5P",
        "outputId": "669db417-6b7c-4d92-8f97-9154dbada6f8"
      },
      "execution_count": null,
      "outputs": [
        {
          "output_type": "stream",
          "name": "stdout",
          "text": [
            "4\n",
            "2 2\n",
            "0\n",
            "13 10\n",
            "11\n",
            "3 9\n",
            "12\n",
            "12 15\n",
            "13\n"
          ]
        }
      ]
    }
  ]
}