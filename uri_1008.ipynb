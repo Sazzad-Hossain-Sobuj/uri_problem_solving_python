{
  "nbformat": 4,
  "nbformat_minor": 0,
  "metadata": {
    "colab": {
      "provenance": [],
      "authorship_tag": "ABX9TyMFr/Rrf50clsSOgNbpTX60",
      "include_colab_link": true
    },
    "kernelspec": {
      "name": "python3",
      "display_name": "Python 3"
    },
    "language_info": {
      "name": "python"
    }
  },
  "cells": [
    {
      "cell_type": "markdown",
      "metadata": {
        "id": "view-in-github",
        "colab_type": "text"
      },
      "source": [
        "<a href=\"https://colab.research.google.com/github/Sazzad-Hossain-Sobuj/uri_problem_solving_python/blob/master/uri_1008.ipynb\" target=\"_parent\"><img src=\"https://colab.research.google.com/assets/colab-badge.svg\" alt=\"Open In Colab\"/></a>"
      ]
    },
    {
      "cell_type": "code",
      "execution_count": null,
      "metadata": {
        "id": "RL9OYSl0QGCe"
      },
      "outputs": [],
      "source": [
        "a= int(input())\n",
        "b= int(input())\n",
        "c= float(input())\n",
        "print(\"NUMBER = \",a)\n",
        "mult=b*c\n",
        "print(\"SALARY = U$ %0.2f\"%SALARY)"
      ]
    }
  ]
}