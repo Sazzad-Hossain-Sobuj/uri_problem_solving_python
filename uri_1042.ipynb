{
  "nbformat": 4,
  "nbformat_minor": 0,
  "metadata": {
    "colab": {
      "provenance": [],
      "authorship_tag": "ABX9TyPmaNT+dolyOmSOTB0HCNmo",
      "include_colab_link": true
    },
    "kernelspec": {
      "name": "python3",
      "display_name": "Python 3"
    },
    "language_info": {
      "name": "python"
    }
  },
  "cells": [
    {
      "cell_type": "markdown",
      "metadata": {
        "id": "view-in-github",
        "colab_type": "text"
      },
      "source": [
        "<a href=\"https://colab.research.google.com/github/Sazzad-Hossain-Sobuj/uri_problem_solving_python/blob/master/uri_1042.ipynb\" target=\"_parent\"><img src=\"https://colab.research.google.com/assets/colab-badge.svg\" alt=\"Open In Colab\"/></a>"
      ]
    },
    {
      "cell_type": "code",
      "execution_count": null,
      "metadata": {
        "id": "UVLo0QoTrWlX",
        "colab": {
          "base_uri": "https://localhost:8080/"
        },
        "outputId": "f60fb7fa-ad25-433c-d586-cab384cfe26d"
      },
      "outputs": [
        {
          "output_type": "stream",
          "name": "stdout",
          "text": [
            "5 4 6 \n",
            "[4, 5, 6]\n",
            "4\n",
            "5\n",
            "6\n",
            "\n",
            "5\n",
            "4\n",
            "6\n"
          ]
        }
      ],
      "source": [
        "a,b,c = map(int,input().split())\n",
        "list1 = [a,b,c]\n",
        "list1.sort()\n",
        "print(list1)\n",
        "print(list1[0])\n",
        "print(list1[1])\n",
        "print(list1[2])\n",
        "print(\"\")\n",
        "print(a)\n",
        "print(b)\n",
        "print(c)"
      ]
    },
    {
      "cell_type": "code",
      "source": [
        "a,b,c = map(int,input().split())\n",
        "list1 = [a,b,c]\n",
        "list1.sort()\n",
        "print(f'{list1[0]}\\n{list1[1]}\\n{list1[2]}')\n",
        "print(\"\")\n",
        "print(f'{a}\\n{b}\\n{c}')"
      ],
      "metadata": {
        "colab": {
          "base_uri": "https://localhost:8080/"
        },
        "id": "H0o3Gbv6-i00",
        "outputId": "0825a2dc-94c4-4a46-de99-fccd14460314"
      },
      "execution_count": null,
      "outputs": [
        {
          "output_type": "stream",
          "name": "stdout",
          "text": [
            "8 2 5\n",
            "2\n",
            "5\n",
            "8\n",
            " \n",
            "8\n",
            "2\n",
            "5\n"
          ]
        }
      ]
    }
  ]
}