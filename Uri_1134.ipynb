{
  "nbformat": 4,
  "nbformat_minor": 0,
  "metadata": {
    "colab": {
      "provenance": [],
      "authorship_tag": "ABX9TyMoau9kHRznhpwqe4FUw8T0",
      "include_colab_link": true
    },
    "kernelspec": {
      "name": "python3",
      "display_name": "Python 3"
    },
    "language_info": {
      "name": "python"
    }
  },
  "cells": [
    {
      "cell_type": "markdown",
      "metadata": {
        "id": "view-in-github",
        "colab_type": "text"
      },
      "source": [
        "<a href=\"https://colab.research.google.com/github/Sazzad-Hossain-Sobuj/uri_problem_solving_python/blob/master/Uri_1134.ipynb\" target=\"_parent\"><img src=\"https://colab.research.google.com/assets/colab-badge.svg\" alt=\"Open In Colab\"/></a>"
      ]
    },
    {
      "cell_type": "code",
      "execution_count": 5,
      "metadata": {
        "colab": {
          "base_uri": "https://localhost:8080/"
        },
        "id": "d-XKYNWoVase",
        "outputId": "09dbeb6d-9223-4df3-abbe-d182930c57cc"
      },
      "outputs": [
        {
          "output_type": "stream",
          "name": "stdout",
          "text": [
            "1\n",
            "4\n",
            "MUITO OBRIGADO\n",
            "Alcool: 1\n",
            "Gasolina: 0\n",
            "Diesel: 0\n"
          ]
        }
      ],
      "source": [
        "a=0\n",
        "g=0\n",
        "d=0\n",
        "while(True):\n",
        "    n=int(input())\n",
        "    if(n == 4):\n",
        "        break\n",
        "    else:\n",
        "        if (n == 1):\n",
        "            a +=1\n",
        "        elif (n == 2):\n",
        "            g+=1\n",
        "        elif (n == 3):\n",
        "            d+=1\n",
        "        else:\n",
        "            continue\n",
        "print(f'MUITO OBRIGADO\\nAlcool: {a}\\nGasolina: {g}\\nDiesel: {d}')"
      ]
    }
  ]
}