{
  "nbformat": 4,
  "nbformat_minor": 0,
  "metadata": {
    "colab": {
      "provenance": [],
      "authorship_tag": "ABX9TyM6k+rMd/FZor6WDXhqXxji",
      "include_colab_link": true
    },
    "kernelspec": {
      "name": "python3",
      "display_name": "Python 3"
    },
    "language_info": {
      "name": "python"
    }
  },
  "cells": [
    {
      "cell_type": "markdown",
      "metadata": {
        "id": "view-in-github",
        "colab_type": "text"
      },
      "source": [
        "<a href=\"https://colab.research.google.com/github/Sazzad-Hossain-Sobuj/uri_problem_solving_python/blob/master/Uri_1045.ipynb\" target=\"_parent\"><img src=\"https://colab.research.google.com/assets/colab-badge.svg\" alt=\"Open In Colab\"/></a>"
      ]
    },
    {
      "cell_type": "code",
      "execution_count": 20,
      "metadata": {
        "colab": {
          "base_uri": "https://localhost:8080/"
        },
        "id": "MdNne9QUoFDf",
        "outputId": "413fa907-1fce-4ead-d08f-fb9e5d7fb4b6"
      },
      "outputs": [
        {
          "output_type": "stream",
          "name": "stdout",
          "text": [
            "7.0 5.0 7.0\n",
            "TRIANGULO ACUTANGULO\n",
            "TRIANGULO ISOSCELES\n"
          ]
        }
      ],
      "source": [
        "A,B,C = map(float,input().split())\n",
        "list1 = [A,B,C]\n",
        "list1.sort(reverse = True)\n",
        "if(A>=B+C):\n",
        "  print('NAO FORMA TRIANGULO')\n",
        "elif(A**2==B**2+C**2):\n",
        "  print('TRIANGULO RETANGULO') \n",
        "elif(A**2>B**2+C**2):\n",
        "  print('TRIANGULO OBTUSANGULO')\n",
        "elif(A**2<B**2+C**2):\n",
        "  print('TRIANGULO ACUTANGULO')\n",
        "if(A==B==C):\n",
        "  print('TRIANGULO EQUILATERO')\n",
        "elif(A==B or B==C or A==C):\n",
        "  print('TRIANGULO ISOSCELES')\n",
        "\n"
      ]
    },
    {
      "cell_type": "code",
      "source": [
        "A,B,C = sorted(list(map(float,input().split())),reverse=True)\n",
        "if(A>=B+C):\n",
        "  print('NAO FORMA TRIANGULO')\n",
        "elif(A**2==B**2+C**2):\n",
        "  print('TRIANGULO RETANGULO') \n",
        "elif(A**2>B**2+C**2):\n",
        "  print('TRIANGULO OBTUSANGULO')\n",
        "elif(A**2<B**2+C**2):\n",
        "  print('TRIANGULO ACUTANGULO')\n",
        "if(A==B==C):\n",
        "  print('TRIANGULO EQUILATERO')\n",
        "elif(A==B or B==C or A==C):\n",
        "  print('TRIANGULO ISOSCELES')\n",
        "\n"
      ],
      "metadata": {
        "colab": {
          "base_uri": "https://localhost:8080/"
        },
        "id": "bCdOLSKwybNt",
        "outputId": "6f556169-dcf9-4523-d6a9-3d38b6392519"
      },
      "execution_count": 22,
      "outputs": [
        {
          "output_type": "stream",
          "name": "stdout",
          "text": [
            "7.0 5.0 7.0\n",
            "TRIANGULO ACUTANGULO\n",
            "TRIANGULO ISOSCELES\n"
          ]
        }
      ]
    }
  ]
}