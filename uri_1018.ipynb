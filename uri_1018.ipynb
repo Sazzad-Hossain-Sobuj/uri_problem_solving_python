{
  "nbformat": 4,
  "nbformat_minor": 0,
  "metadata": {
    "colab": {
      "provenance": [],
      "authorship_tag": "ABX9TyNW+zsabvPdVHY8ipD0wBJf",
      "include_colab_link": true
    },
    "kernelspec": {
      "name": "python3",
      "display_name": "Python 3"
    },
    "language_info": {
      "name": "python"
    }
  },
  "cells": [
    {
      "cell_type": "markdown",
      "metadata": {
        "id": "view-in-github",
        "colab_type": "text"
      },
      "source": [
        "<a href=\"https://colab.research.google.com/github/Sazzad-Hossain-Sobuj/uri_problem_solving_python/blob/master/uri_1018.ipynb\" target=\"_parent\"><img src=\"https://colab.research.google.com/assets/colab-badge.svg\" alt=\"Open In Colab\"/></a>"
      ]
    },
    {
      "cell_type": "code",
      "execution_count": 20,
      "metadata": {
        "colab": {
          "base_uri": "https://localhost:8080/"
        },
        "id": "M_YxiuogB0iy",
        "outputId": "e28d2979-c15c-467e-c9f2-2306e31cb836"
      },
      "outputs": [
        {
          "output_type": "stream",
          "name": "stdout",
          "text": [
            "11252\n",
            "11252\n",
            "112 nota(s) de R$ 100,00\n",
            "1 nota(s) de R$ 50,00\n",
            "0 nota(s) de R$ 20,00\n",
            "0 nota(s) de R$ 10,00\n",
            "0 nota(s) de R$ 5,00\n",
            "1 nota(s) de R$ 2,00\n",
            "0 nota(s) de R$ 1,00\n"
          ]
        }
      ],
      "source": [
        "n = int(input())\n",
        "print(n)\n",
        "print(\"{} nota(s) de R$ 100,00\".format(int(n/100)))\n",
        "remain = (n%100)\n",
        "print('{} nota(s) de R$ 50,00'.format(remain//50))\n",
        "remain = (remain%50)\n",
        "print('{} nota(s) de R$ 20,00'.format(remain//20))\n",
        "remain = (remain%20)\n",
        "print('{} nota(s) de R$ 10,00'.format(remain//10))\n",
        "remain = (remain%10)\n",
        "print('{} nota(s) de R$ 5,00'.format(remain//5))\n",
        "remain = (remain%5)\n",
        "print('{} nota(s) de R$ 2,00'.format(remain//2))\n",
        "remain = (remain%2)\n",
        "print('{} nota(s) de R$ 1,00'.format(remain//1))\n"
      ]
    },
    {
      "cell_type": "code",
      "source": [
        "notes = int(input())\n",
        "noteslist = [100,50,20,10,5,2,1]\n",
        "for i in noteslist:\n",
        "  print(f'{notes//i} nota(s) de R$ {i},00')\n",
        "  notes = notes%i\n"
      ],
      "metadata": {
        "colab": {
          "base_uri": "https://localhost:8080/"
        },
        "id": "809QtR99O1Aj",
        "outputId": "31fc237d-a497-4733-ff11-01d839df2835"
      },
      "execution_count": 24,
      "outputs": [
        {
          "output_type": "stream",
          "name": "stdout",
          "text": [
            "503\n",
            "5 nota(s) de R$ 100,00\n",
            "0 nota(s) de R$ 50,00\n",
            "0 nota(s) de R$ 20,00\n",
            "0 nota(s) de R$ 10,00\n",
            "0 nota(s) de R$ 5,00\n",
            "1 nota(s) de R$ 2,00\n",
            "1 nota(s) de R$ 1,00\n"
          ]
        }
      ]
    }
  ]
}