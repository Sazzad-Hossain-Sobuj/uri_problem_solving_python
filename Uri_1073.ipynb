{
  "nbformat": 4,
  "nbformat_minor": 0,
  "metadata": {
    "colab": {
      "provenance": [],
      "authorship_tag": "ABX9TyO2PM3GNjaPPHKzS+K7y5cs",
      "include_colab_link": true
    },
    "kernelspec": {
      "name": "python3",
      "display_name": "Python 3"
    },
    "language_info": {
      "name": "python"
    }
  },
  "cells": [
    {
      "cell_type": "markdown",
      "metadata": {
        "id": "view-in-github",
        "colab_type": "text"
      },
      "source": [
        "<a href=\"https://colab.research.google.com/github/Sazzad-Hossain-Sobuj/uri_problem_solving_python/blob/master/Uri_1073.ipynb\" target=\"_parent\"><img src=\"https://colab.research.google.com/assets/colab-badge.svg\" alt=\"Open In Colab\"/></a>"
      ]
    },
    {
      "cell_type": "code",
      "execution_count": 7,
      "metadata": {
        "colab": {
          "base_uri": "https://localhost:8080/"
        },
        "id": "EcP1QslNojrz",
        "outputId": "23f0a74b-02f2-496a-b6d1-727f4afe67a8"
      },
      "outputs": [
        {
          "output_type": "stream",
          "name": "stdout",
          "text": [
            "6\n",
            "2^2 = 4\n",
            "4^2 = 16\n",
            "6^2 = 36\n"
          ]
        }
      ],
      "source": [
        "N = int(input())\n",
        "for i in range(1,N+1):\n",
        "  if(i%2==0):\n",
        "    print(f'{i}^2 = {i**2}')"
      ]
    },
    {
      "cell_type": "code",
      "source": [
        "N = int(input())\n",
        "i = 1\n",
        "while(i<=N):\n",
        "  if(i%2==0):\n",
        "    print(f'{i}^2 = {i**2}')\n",
        "  i+=1"
      ],
      "metadata": {
        "colab": {
          "base_uri": "https://localhost:8080/"
        },
        "id": "jpYSDOhYrJJJ",
        "outputId": "a4c11083-d494-4cae-c0ee-12d2d5e9f7ef"
      },
      "execution_count": 10,
      "outputs": [
        {
          "output_type": "stream",
          "name": "stdout",
          "text": [
            "6\n",
            "2^2 = 4\n",
            "4^2 = 16\n",
            "6^2 = 36\n"
          ]
        }
      ]
    }
  ]
}