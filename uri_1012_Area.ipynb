{
  "nbformat": 4,
  "nbformat_minor": 0,
  "metadata": {
    "colab": {
      "provenance": [],
      "authorship_tag": "ABX9TyMA2snaO4bG5Hhl1wz0V2eL",
      "include_colab_link": true
    },
    "kernelspec": {
      "name": "python3",
      "display_name": "Python 3"
    },
    "language_info": {
      "name": "python"
    }
  },
  "cells": [
    {
      "cell_type": "markdown",
      "metadata": {
        "id": "view-in-github",
        "colab_type": "text"
      },
      "source": [
        "<a href=\"https://colab.research.google.com/github/Sazzad-Hossain-Sobuj/uri_problem_solving_python/blob/master/uri_1012_Area.ipynb\" target=\"_parent\"><img src=\"https://colab.research.google.com/assets/colab-badge.svg\" alt=\"Open In Colab\"/></a>"
      ]
    },
    {
      "cell_type": "code",
      "source": [
        "a,b,c = list(map(float,input().split()))\n",
        "triangle=0.5*a*c\n",
        "circle=3.14159*c*c\n",
        "trapezium=(a+b)/2.0*c\n",
        "square=b*b\n",
        "rectangle=a*b\n",
        "print(\"TRIANGULO: %.3lf\"%triangle)\n",
        "print(\"CIRCULO: %.3f\"%circle)\n",
        "print(\"TRAPEZIO: %.3f\"%trapezium)\n",
        "print(\"QUADRADO: %.3f\"%square)\n",
        "print(\"RETANGULO: %.3f\"%rectangle)"
      ],
      "metadata": {
        "colab": {
          "base_uri": "https://localhost:8080/"
        },
        "id": "VJEQNucWgU4G",
        "outputId": "a0668895-d314-4d29-d6f6-5df624a5e28c"
      },
      "execution_count": 4,
      "outputs": [
        {
          "output_type": "stream",
          "name": "stdout",
          "text": [
            "3.0 4.0 5.2\n",
            "TRIANGULO: 7.800\n",
            "CIRCULO: 84.949\n",
            "TRAPEZIO: 18.200\n",
            "QUADRADO: 16.000\n",
            "RETANGULO: 12.000\n"
          ]
        }
      ]
    },
    {
      "cell_type": "code",
      "source": [],
      "metadata": {
        "id": "zhpE1sR-gvLT"
      },
      "execution_count": null,
      "outputs": []
    }
  ]
}