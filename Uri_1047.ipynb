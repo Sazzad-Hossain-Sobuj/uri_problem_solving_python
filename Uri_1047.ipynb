{
  "nbformat": 4,
  "nbformat_minor": 0,
  "metadata": {
    "colab": {
      "provenance": [],
      "authorship_tag": "ABX9TyODfnT8pfQUnmHEJUY6LoPg",
      "include_colab_link": true
    },
    "kernelspec": {
      "name": "python3",
      "display_name": "Python 3"
    },
    "language_info": {
      "name": "python"
    }
  },
  "cells": [
    {
      "cell_type": "markdown",
      "metadata": {
        "id": "view-in-github",
        "colab_type": "text"
      },
      "source": [
        "<a href=\"https://colab.research.google.com/github/Sazzad-Hossain-Sobuj/uri_problem_solving_python/blob/master/Uri_1047.ipynb\" target=\"_parent\"><img src=\"https://colab.research.google.com/assets/colab-badge.svg\" alt=\"Open In Colab\"/></a>"
      ]
    },
    {
      "cell_type": "code",
      "execution_count": 4,
      "metadata": {
        "colab": {
          "base_uri": "https://localhost:8080/"
        },
        "id": "nbCei2TKsqkz",
        "outputId": "dea731d5-df2a-46d2-d7e0-69b214e5902d"
      },
      "outputs": [
        {
          "output_type": "stream",
          "name": "stdout",
          "text": [
            " 7 7 7 7\n",
            "O JOGO DUROU 24 HORA(S) E 0 MINUTO(S)\n"
          ]
        }
      ],
      "source": [
        "a,b,c,d = map(int,input().split())\n",
        "start = a*60+b\n",
        "end = c*60+d\n",
        "dif = end - start\n",
        "if dif<=0:\n",
        "  dif = dif+24*60\n",
        "print(f'O JOGO DUROU {dif//60} HORA(S) E {dif%60} MINUTO(S)')"
      ]
    }
  ]
}