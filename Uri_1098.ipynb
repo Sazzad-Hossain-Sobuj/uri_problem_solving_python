{
  "nbformat": 4,
  "nbformat_minor": 0,
  "metadata": {
    "colab": {
      "provenance": [],
      "authorship_tag": "ABX9TyOwIJAtS49kdlA1vkNa5pj6",
      "include_colab_link": true
    },
    "kernelspec": {
      "name": "python3",
      "display_name": "Python 3"
    },
    "language_info": {
      "name": "python"
    }
  },
  "cells": [
    {
      "cell_type": "markdown",
      "metadata": {
        "id": "view-in-github",
        "colab_type": "text"
      },
      "source": [
        "<a href=\"https://colab.research.google.com/github/Sazzad-Hossain-Sobuj/uri_problem_solving_python/blob/master/Uri_1098.ipynb\" target=\"_parent\"><img src=\"https://colab.research.google.com/assets/colab-badge.svg\" alt=\"Open In Colab\"/></a>"
      ]
    },
    {
      "cell_type": "code",
      "source": [
        "i=0\n",
        "j=1\n",
        "while(i<=2):\n",
        "  for n in range(3):\n",
        "    if i!=int(i):\n",
        "     print(f'I={i:0.1f} J={j:0.1f}')\n",
        "    else:\n",
        "      print(f'I={i:0.0f} J={j:0.0f}')\n",
        "    j=j+1\n",
        "\n",
        "  j=round(j-2.8,1)\n",
        "  i=round(i+0.2,1)"
      ],
      "metadata": {
        "colab": {
          "base_uri": "https://localhost:8080/"
        },
        "id": "xT898sEj4NGh",
        "outputId": "1a074812-4e75-4e20-8ddf-c88ace33072c"
      },
      "execution_count": 14,
      "outputs": [
        {
          "output_type": "stream",
          "name": "stdout",
          "text": [
            "I=0 J=1\n",
            "I=0 J=2\n",
            "I=0 J=3\n",
            "I=0.2 J=1.2\n",
            "I=0.2 J=2.2\n",
            "I=0.2 J=3.2\n",
            "I=0.4 J=1.4\n",
            "I=0.4 J=2.4\n",
            "I=0.4 J=3.4\n",
            "I=0.6 J=1.6\n",
            "I=0.6 J=2.6\n",
            "I=0.6 J=3.6\n",
            "I=0.8 J=1.8\n",
            "I=0.8 J=2.8\n",
            "I=0.8 J=3.8\n",
            "I=1 J=2\n",
            "I=1 J=3\n",
            "I=1 J=4\n",
            "I=1.2 J=2.2\n",
            "I=1.2 J=3.2\n",
            "I=1.2 J=4.2\n",
            "I=1.4 J=2.4\n",
            "I=1.4 J=3.4\n",
            "I=1.4 J=4.4\n",
            "I=1.6 J=2.6\n",
            "I=1.6 J=3.6\n",
            "I=1.6 J=4.6\n",
            "I=1.8 J=2.8\n",
            "I=1.8 J=3.8\n",
            "I=1.8 J=4.8\n",
            "I=2 J=3\n",
            "I=2 J=4\n",
            "I=2 J=5\n"
          ]
        }
      ]
    }
  ]
}