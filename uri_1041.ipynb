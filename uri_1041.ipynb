{
  "nbformat": 4,
  "nbformat_minor": 0,
  "metadata": {
    "colab": {
      "provenance": [],
      "authorship_tag": "ABX9TyPiwFAbp06kGCCrFVEn+SZY",
      "include_colab_link": true
    },
    "kernelspec": {
      "name": "python3",
      "display_name": "Python 3"
    },
    "language_info": {
      "name": "python"
    }
  },
  "cells": [
    {
      "cell_type": "markdown",
      "metadata": {
        "id": "view-in-github",
        "colab_type": "text"
      },
      "source": [
        "<a href=\"https://colab.research.google.com/github/Sazzad-Hossain-Sobuj/uri_problem_solving_python/blob/master/uri_1041.ipynb\" target=\"_parent\"><img src=\"https://colab.research.google.com/assets/colab-badge.svg\" alt=\"Open In Colab\"/></a>"
      ]
    },
    {
      "cell_type": "code",
      "execution_count": 2,
      "metadata": {
        "colab": {
          "base_uri": "https://localhost:8080/"
        },
        "id": "rSCo9W7CsEdf",
        "outputId": "b8271adb-076c-4e27-e40c-1235667af19c"
      },
      "outputs": [
        {
          "output_type": "stream",
          "name": "stdout",
          "text": [
            "1 -1\n",
            "Q4\n"
          ]
        }
      ],
      "source": [
        "X,Y=list(map(float,input().split()))\n",
        "if(X==0 and Y==0):\n",
        "    print(\"Origem\")\n",
        "elif(X==0):\n",
        "    print(\"Eixo Y\")\n",
        "elif(Y==0):\n",
        "    print(\"Eixo X\")\n",
        "elif(X>0 and Y>0):\n",
        "    print(\"Q1\")\n",
        "elif(X<0 and Y>0):\n",
        "    print(\"Q2\")\n",
        "elif(X<0 and Y<0):\n",
        "    print(\"Q3\")\n",
        "elif(X>0 and Y<0):\n",
        "    print(\"Q4\")"
      ]
    }
  ]
}