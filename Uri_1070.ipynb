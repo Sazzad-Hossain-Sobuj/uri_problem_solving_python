{
  "nbformat": 4,
  "nbformat_minor": 0,
  "metadata": {
    "colab": {
      "provenance": [],
      "authorship_tag": "ABX9TyNWgbzMzmjjbSTPRCuVJK2H",
      "include_colab_link": true
    },
    "kernelspec": {
      "name": "python3",
      "display_name": "Python 3"
    },
    "language_info": {
      "name": "python"
    }
  },
  "cells": [
    {
      "cell_type": "markdown",
      "metadata": {
        "id": "view-in-github",
        "colab_type": "text"
      },
      "source": [
        "<a href=\"https://colab.research.google.com/github/Sazzad-Hossain-Sobuj/uri_problem_solving_python/blob/master/Uri_1070.ipynb\" target=\"_parent\"><img src=\"https://colab.research.google.com/assets/colab-badge.svg\" alt=\"Open In Colab\"/></a>"
      ]
    },
    {
      "cell_type": "code",
      "source": [
        "n=int(input())\n",
        "i=0\n",
        "while(i<6):\n",
        "    if(n%2!=0):\n",
        "        print(n)\n",
        "        i=i+1\n",
        "    n=n+1"
      ],
      "metadata": {
        "colab": {
          "base_uri": "https://localhost:8080/"
        },
        "id": "MwzEjxijrmi2",
        "outputId": "5ef52aa7-74a8-4eb9-aab1-bc0ec148d950"
      },
      "execution_count": 1,
      "outputs": [
        {
          "output_type": "stream",
          "name": "stdout",
          "text": [
            "4\n",
            "5\n",
            "7\n",
            "9\n",
            "11\n",
            "13\n",
            "15\n"
          ]
        }
      ]
    }
  ]
}