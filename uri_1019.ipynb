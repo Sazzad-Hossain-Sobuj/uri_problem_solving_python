{
  "nbformat": 4,
  "nbformat_minor": 0,
  "metadata": {
    "colab": {
      "provenance": [],
      "authorship_tag": "ABX9TyNDvv0ukP3pHD6IYCcZY0/g",
      "include_colab_link": true
    },
    "kernelspec": {
      "name": "python3",
      "display_name": "Python 3"
    },
    "language_info": {
      "name": "python"
    }
  },
  "cells": [
    {
      "cell_type": "markdown",
      "metadata": {
        "id": "view-in-github",
        "colab_type": "text"
      },
      "source": [
        "<a href=\"https://colab.research.google.com/github/Sazzad-Hossain-Sobuj/uri_problem_solving_python/blob/master/uri_1019.ipynb\" target=\"_parent\"><img src=\"https://colab.research.google.com/assets/colab-badge.svg\" alt=\"Open In Colab\"/></a>"
      ]
    },
    {
      "cell_type": "code",
      "execution_count": 12,
      "metadata": {
        "colab": {
          "base_uri": "https://localhost:8080/"
        },
        "id": "OC0Ks83XThHT",
        "outputId": "5b33e524-1410-4191-c7fd-662fcd66b4bd"
      },
      "outputs": [
        {
          "output_type": "stream",
          "name": "stdout",
          "text": [
            "556\n",
            "0:9:16\n"
          ]
        }
      ],
      "source": [
        "N = int(input())\n",
        "print(f'{N//3600}:{N%3600//60}:{N%60}')\n"
      ]
    },
    {
      "cell_type": "code",
      "source": [
        "N = int(input())\n",
        "print('{}:{}:{}'.format(N//3600,N%3600//60,N%60))"
      ],
      "metadata": {
        "colab": {
          "base_uri": "https://localhost:8080/"
        },
        "id": "Ir8hMuAdWJMo",
        "outputId": "22e7c25c-86ea-41ae-bd18-2c11077ee26a"
      },
      "execution_count": 14,
      "outputs": [
        {
          "output_type": "stream",
          "name": "stdout",
          "text": [
            "140153\n",
            "38:55:53\n"
          ]
        }
      ]
    },
    {
      "cell_type": "code",
      "source": [
        "N = int(input())\n",
        "hour = N//3600\n",
        "minute = N%3600//60\n",
        "second = N%60\n",
        "print(f'{hour}:{minute}:{second}') \n"
      ],
      "metadata": {
        "colab": {
          "base_uri": "https://localhost:8080/"
        },
        "id": "FfjCSc--Wx9o",
        "outputId": "8388dabb-ce42-4c11-d118-1a9029c3b5ae"
      },
      "execution_count": 13,
      "outputs": [
        {
          "output_type": "stream",
          "name": "stdout",
          "text": [
            "556\n",
            "0:9:16\n"
          ]
        }
      ]
    }
  ]
}