{
  "nbformat": 4,
  "nbformat_minor": 0,
  "metadata": {
    "colab": {
      "provenance": [],
      "authorship_tag": "ABX9TyNpPm76GiUq4vkPyH6vTWyr",
      "include_colab_link": true
    },
    "kernelspec": {
      "name": "python3",
      "display_name": "Python 3"
    },
    "language_info": {
      "name": "python"
    }
  },
  "cells": [
    {
      "cell_type": "markdown",
      "metadata": {
        "id": "view-in-github",
        "colab_type": "text"
      },
      "source": [
        "<a href=\"https://colab.research.google.com/github/Sazzad-Hossain-Sobuj/uri_problem_solving_python/blob/master/Uri_1065.ipynb\" target=\"_parent\"><img src=\"https://colab.research.google.com/assets/colab-badge.svg\" alt=\"Open In Colab\"/></a>"
      ]
    },
    {
      "cell_type": "code",
      "execution_count": null,
      "metadata": {
        "colab": {
          "base_uri": "https://localhost:8080/"
        },
        "id": "DJwEjTAlWJcb",
        "outputId": "2c0fd77f-67a5-49f2-e0b0-31cbf7bedf7a"
      },
      "outputs": [
        {
          "output_type": "stream",
          "name": "stdout",
          "text": [
            "7\n",
            "-5\n",
            "6\n",
            "-4\n",
            "12\n",
            "3 valores pares\n"
          ]
        }
      ],
      "source": [
        "count = 0\n",
        "for i in range(5):\n",
        "  n = int(input())\n",
        "  if n%2==0:\n",
        "    count+=1\n",
        "print(f'{count} valores pares')"
      ]
    }
  ]
}