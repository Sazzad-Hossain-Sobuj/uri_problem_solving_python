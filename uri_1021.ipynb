{
  "nbformat": 4,
  "nbformat_minor": 0,
  "metadata": {
    "colab": {
      "provenance": [],
      "authorship_tag": "ABX9TyP4w0ESNGbbqEQyhahWZLSG",
      "include_colab_link": true
    },
    "kernelspec": {
      "name": "python3",
      "display_name": "Python 3"
    },
    "language_info": {
      "name": "python"
    }
  },
  "cells": [
    {
      "cell_type": "markdown",
      "metadata": {
        "id": "view-in-github",
        "colab_type": "text"
      },
      "source": [
        "<a href=\"https://colab.research.google.com/github/Sazzad-Hossain-Sobuj/uri_problem_solving_python/blob/master/uri_1021.ipynb\" target=\"_parent\"><img src=\"https://colab.research.google.com/assets/colab-badge.svg\" alt=\"Open In Colab\"/></a>"
      ]
    },
    {
      "cell_type": "code",
      "execution_count": 9,
      "metadata": {
        "id": "2Hf8PHst8g0H",
        "colab": {
          "base_uri": "https://localhost:8080/"
        },
        "outputId": "bac363d0-eb32-4368-b10f-d4465f7d5d20"
      },
      "outputs": [
        {
          "output_type": "stream",
          "name": "stdout",
          "text": [
            "576.73\n",
            "NOTAS:\n",
            "5 nota(s) de R$ 100.00\n",
            "1 nota(s) de R$ 50.00\n",
            "1 nota(s) de R$ 20.00\n",
            "0 nota(s) de R$ 10.00\n",
            "1 nota(s) de R$ 5.00\n",
            "0 nota(s) de R$ 2.00\n",
            "MOEDAS:\n",
            "1 moeda(s) de R$ 1.00\n",
            "1 moeda(s) de R$ 0.50\n",
            "0 moeda(s) de R$ 0.25\n",
            "2 moeda(s) de R$ 0.10\n",
            "0 moeda(s) de R$ 0.05\n",
            "3 moeda(s) de R$ 0.01\n"
          ]
        }
      ],
      "source": [
        "n = float(input())\n",
        "list1 = [100, 50, 20, 10, 5, 2]\n",
        "list2 = [1, 0.50, 0.25, 0.10, 0.05, 0.01]\n",
        "print('NOTAS:')\n",
        "for i in list1:\n",
        "  print(f'{int(n/i)} nota(s) de R$ {i}.00')\n",
        "  n = float(f'{n%i:0.02f}')\n",
        "\n",
        "print('MOEDAS:')\n",
        "for i in list2:\n",
        "  print(f'{int(n/i)} moeda(s) de R$ {i:0.02f}')\n",
        "  n = float(f'{n%i:0.02f}')\n",
        "\n",
        "\n"
      ]
    }
  ]
}