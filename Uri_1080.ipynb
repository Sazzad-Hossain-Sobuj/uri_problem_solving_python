{
  "nbformat": 4,
  "nbformat_minor": 0,
  "metadata": {
    "colab": {
      "provenance": [],
      "authorship_tag": "ABX9TyPVeNwhRBXZL/lTWdYKISfw",
      "include_colab_link": true
    },
    "kernelspec": {
      "name": "python3",
      "display_name": "Python 3"
    },
    "language_info": {
      "name": "python"
    }
  },
  "cells": [
    {
      "cell_type": "markdown",
      "metadata": {
        "id": "view-in-github",
        "colab_type": "text"
      },
      "source": [
        "<a href=\"https://colab.research.google.com/github/Sazzad-Hossain-Sobuj/uri_problem_solving_python/blob/master/Uri_1080.ipynb\" target=\"_parent\"><img src=\"https://colab.research.google.com/assets/colab-badge.svg\" alt=\"Open In Colab\"/></a>"
      ]
    },
    {
      "cell_type": "code",
      "source": [
        "high=0\n",
        "pos=0\n",
        "for i in range(100):\n",
        "    n=int(input())\n",
        "    if(n>high):\n",
        "        high=n\n",
        "        pos=i\n",
        "print(f'''{high}\n",
        "{pos+1}''')\n"
      ],
      "metadata": {
        "id": "lMPZsRwJQsTW"
      },
      "execution_count": null,
      "outputs": []
    }
  ]
}