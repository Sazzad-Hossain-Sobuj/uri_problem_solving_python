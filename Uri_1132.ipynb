{
  "nbformat": 4,
  "nbformat_minor": 0,
  "metadata": {
    "colab": {
      "provenance": [],
      "authorship_tag": "ABX9TyPccX6/XfPpxU7tGeyY/slx",
      "include_colab_link": true
    },
    "kernelspec": {
      "name": "python3",
      "display_name": "Python 3"
    },
    "language_info": {
      "name": "python"
    }
  },
  "cells": [
    {
      "cell_type": "markdown",
      "metadata": {
        "id": "view-in-github",
        "colab_type": "text"
      },
      "source": [
        "<a href=\"https://colab.research.google.com/github/Sazzad-Hossain-Sobuj/uri_problem_solving_python/blob/master/Uri_1132.ipynb\" target=\"_parent\"><img src=\"https://colab.research.google.com/assets/colab-badge.svg\" alt=\"Open In Colab\"/></a>"
      ]
    },
    {
      "cell_type": "code",
      "execution_count": 1,
      "metadata": {
        "colab": {
          "base_uri": "https://localhost:8080/"
        },
        "id": "o6pzpfwpe2xe",
        "outputId": "2ab4cdb0-fc83-496e-85e2-e7b44b6dce86"
      },
      "outputs": [
        {
          "output_type": "stream",
          "name": "stdout",
          "text": [
            "100\n",
            "200\n",
            "13954\n"
          ]
        }
      ],
      "source": [
        "X = int(input())\n",
        "Y = int(input())\n",
        "t = X\n",
        "s = 0\n",
        "if(X > Y):\n",
        "    X = Y\n",
        "    Y = t\n",
        "while(X <= Y):\n",
        "    if(X%13 != 0):\n",
        "        s += X\n",
        "    X += 1\n",
        "print(s)"
      ]
    }
  ]
}