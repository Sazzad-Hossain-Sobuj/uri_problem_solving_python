{
  "nbformat": 4,
  "nbformat_minor": 0,
  "metadata": {
    "colab": {
      "provenance": [],
      "authorship_tag": "ABX9TyP5kb1KmfWJy5iLYh5bh53g",
      "include_colab_link": true
    },
    "kernelspec": {
      "name": "python3",
      "display_name": "Python 3"
    },
    "language_info": {
      "name": "python"
    }
  },
  "cells": [
    {
      "cell_type": "markdown",
      "metadata": {
        "id": "view-in-github",
        "colab_type": "text"
      },
      "source": [
        "<a href=\"https://colab.research.google.com/github/Sazzad-Hossain-Sobuj/uri_problem_solving_python/blob/master/Uri_1114.ipynb\" target=\"_parent\"><img src=\"https://colab.research.google.com/assets/colab-badge.svg\" alt=\"Open In Colab\"/></a>"
      ]
    },
    {
      "cell_type": "code",
      "execution_count": 4,
      "metadata": {
        "colab": {
          "base_uri": "https://localhost:8080/"
        },
        "id": "0Z_6b6uf9LdO",
        "outputId": "7ed0d388-495a-4fff-fc78-767e177b420c"
      },
      "outputs": [
        {
          "output_type": "stream",
          "name": "stdout",
          "text": [
            "2003\n",
            "Senha Invalida\n",
            "2002\n",
            "Acesso Permitido\n"
          ]
        }
      ],
      "source": [
        "while(True):\n",
        "    try:\n",
        "        a = int(input())\n",
        "        if(a==2002):\n",
        "            print(\"Acesso Permitido\")\n",
        "            break\n",
        "        else:\n",
        "            print(\"Senha Invalida\")\n",
        "    except EOFError:\n",
        "        break"
      ]
    }
  ]
}