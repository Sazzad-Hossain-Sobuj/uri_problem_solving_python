{
  "nbformat": 4,
  "nbformat_minor": 0,
  "metadata": {
    "colab": {
      "provenance": [],
      "authorship_tag": "ABX9TyNcwgogMZVNL9vDVe/FJ2+D",
      "include_colab_link": true
    },
    "kernelspec": {
      "name": "python3",
      "display_name": "Python 3"
    },
    "language_info": {
      "name": "python"
    }
  },
  "cells": [
    {
      "cell_type": "markdown",
      "metadata": {
        "id": "view-in-github",
        "colab_type": "text"
      },
      "source": [
        "<a href=\"https://colab.research.google.com/github/Sazzad-Hossain-Sobuj/uri_problem_solving_python/blob/master/Uri_1097.ipynb\" target=\"_parent\"><img src=\"https://colab.research.google.com/assets/colab-badge.svg\" alt=\"Open In Colab\"/></a>"
      ]
    },
    {
      "cell_type": "code",
      "execution_count": 3,
      "metadata": {
        "colab": {
          "base_uri": "https://localhost:8080/"
        },
        "id": "br4rQn511Hrv",
        "outputId": "b2395a1f-d49b-4cfc-bdf1-b578e5863867"
      },
      "outputs": [
        {
          "output_type": "stream",
          "name": "stdout",
          "text": [
            "I=1 J=7\n",
            "I=1 J=6\n",
            "I=1 J=5\n",
            "I=3 J=9\n",
            "I=3 J=8\n",
            "I=3 J=7\n",
            "I=5 J=11\n",
            "I=5 J=10\n",
            "I=5 J=9\n",
            "I=7 J=13\n",
            "I=7 J=12\n",
            "I=7 J=11\n",
            "I=9 J=15\n",
            "I=9 J=14\n",
            "I=9 J=13\n"
          ]
        }
      ],
      "source": [
        "for i in range(1,10,2):\n",
        "    for j in range(6+i,3+i,-1):\n",
        "        print(f\"I={i} J={j}\")"
      ]
    }
  ]
}