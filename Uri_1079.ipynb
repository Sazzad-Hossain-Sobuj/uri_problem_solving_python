{
  "nbformat": 4,
  "nbformat_minor": 0,
  "metadata": {
    "colab": {
      "provenance": [],
      "authorship_tag": "ABX9TyM7BSgaClmtamimo96CpPfT",
      "include_colab_link": true
    },
    "kernelspec": {
      "name": "python3",
      "display_name": "Python 3"
    },
    "language_info": {
      "name": "python"
    }
  },
  "cells": [
    {
      "cell_type": "markdown",
      "metadata": {
        "id": "view-in-github",
        "colab_type": "text"
      },
      "source": [
        "<a href=\"https://colab.research.google.com/github/Sazzad-Hossain-Sobuj/uri_problem_solving_python/blob/master/Uri_1079.ipynb\" target=\"_parent\"><img src=\"https://colab.research.google.com/assets/colab-badge.svg\" alt=\"Open In Colab\"/></a>"
      ]
    },
    {
      "cell_type": "code",
      "execution_count": null,
      "metadata": {
        "colab": {
          "base_uri": "https://localhost:8080/"
        },
        "id": "GcsBYJcOgM6p",
        "outputId": "87b47d2e-5188-4d24-804c-fa70ea6b1a99"
      },
      "outputs": [
        {
          "output_type": "stream",
          "name": "stdout",
          "text": [
            "2\n",
            "6.5 4.3 6.2\n",
            "5.7\n",
            "5.1 4.2 8.1\n",
            "6.3\n"
          ]
        }
      ],
      "source": [
        "N = int(input())\n",
        "for i in range(N):\n",
        "  a,b,c= list(map(float,(input().split())))\n",
        "  avg = (a*2+b*3+c*5)/10\n",
        "  print(f'{avg :0.1f}')"
      ]
    }
  ]
}