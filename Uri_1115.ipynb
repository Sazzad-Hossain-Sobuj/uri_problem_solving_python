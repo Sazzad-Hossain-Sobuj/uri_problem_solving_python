{
  "nbformat": 4,
  "nbformat_minor": 0,
  "metadata": {
    "colab": {
      "provenance": [],
      "authorship_tag": "ABX9TyNPT1vCDmLbuCP0h84dR+rC",
      "include_colab_link": true
    },
    "kernelspec": {
      "name": "python3",
      "display_name": "Python 3"
    },
    "language_info": {
      "name": "python"
    }
  },
  "cells": [
    {
      "cell_type": "markdown",
      "metadata": {
        "id": "view-in-github",
        "colab_type": "text"
      },
      "source": [
        "<a href=\"https://colab.research.google.com/github/Sazzad-Hossain-Sobuj/uri_problem_solving_python/blob/master/Uri_1115.ipynb\" target=\"_parent\"><img src=\"https://colab.research.google.com/assets/colab-badge.svg\" alt=\"Open In Colab\"/></a>"
      ]
    },
    {
      "cell_type": "code",
      "execution_count": 1,
      "metadata": {
        "colab": {
          "base_uri": "https://localhost:8080/"
        },
        "id": "5D6Y7tYQ0aux",
        "outputId": "9005bed0-979b-4ffd-ffb0-88edebae3775"
      },
      "outputs": [
        {
          "name": "stdout",
          "output_type": "stream",
          "text": [
            "2 2\n",
            "primeiro\n",
            "3 -2\n",
            "quarto\n",
            "-8 -1\n",
            "terceiro\n",
            "-7 1\n",
            "segundo\n",
            "0 2\n"
          ]
        }
      ],
      "source": [
        "while(True):\n",
        "        a,b=list(map(int,input().split()))\n",
        "        if(a==0 or b==0):\n",
        "                break\n",
        "        elif(a>0 and b>0):\n",
        "            print(\"primeiro\")\n",
        "        elif(a>0 and b<0):\n",
        "            print(\"quarto\")\n",
        "        elif(a<0 and b<0):\n",
        "            print(\"terceiro\")\n",
        "        else:\n",
        "             print(\"segundo\")\n"
      ]
    }
  ]
}