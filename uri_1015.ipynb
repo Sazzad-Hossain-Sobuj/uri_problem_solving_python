{
  "nbformat": 4,
  "nbformat_minor": 0,
  "metadata": {
    "colab": {
      "provenance": [],
      "authorship_tag": "ABX9TyOA7LHEaaJ292/2PBspZe87",
      "include_colab_link": true
    },
    "kernelspec": {
      "name": "python3",
      "display_name": "Python 3"
    },
    "language_info": {
      "name": "python"
    }
  },
  "cells": [
    {
      "cell_type": "markdown",
      "metadata": {
        "id": "view-in-github",
        "colab_type": "text"
      },
      "source": [
        "<a href=\"https://colab.research.google.com/github/Sazzad-Hossain-Sobuj/uri_problem_solving_python/blob/master/uri_1015.ipynb\" target=\"_parent\"><img src=\"https://colab.research.google.com/assets/colab-badge.svg\" alt=\"Open In Colab\"/></a>"
      ]
    },
    {
      "cell_type": "code",
      "execution_count": null,
      "metadata": {
        "colab": {
          "base_uri": "https://localhost:8080/"
        },
        "id": "qM5zp90zBafG",
        "outputId": "b4dcbf2c-e494-4be1-8a53-c5564d60a1d2"
      },
      "outputs": [
        {
          "output_type": "stream",
          "name": "stdout",
          "text": [
            "1.0 7.0\n",
            "5.0 9.0\n",
            "4.4721\n"
          ]
        }
      ],
      "source": [
        "import math\n",
        "x1,y1 = list(map(float,input().split()))\n",
        "x2,y2 = list(map(float,input().split()))\n",
        "d =  math.sqrt(pow(x2-x1,2)+pow(y2-y1,2))\n",
        "print('%0.4f'%d)"
      ]
    }
  ]
}