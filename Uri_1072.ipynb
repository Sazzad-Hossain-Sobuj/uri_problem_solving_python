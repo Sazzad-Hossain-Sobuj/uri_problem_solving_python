{
  "nbformat": 4,
  "nbformat_minor": 0,
  "metadata": {
    "colab": {
      "provenance": [],
      "authorship_tag": "ABX9TyNWggH85GG2PZhkwDsROfFd",
      "include_colab_link": true
    },
    "kernelspec": {
      "name": "python3",
      "display_name": "Python 3"
    },
    "language_info": {
      "name": "python"
    }
  },
  "cells": [
    {
      "cell_type": "markdown",
      "metadata": {
        "id": "view-in-github",
        "colab_type": "text"
      },
      "source": [
        "<a href=\"https://colab.research.google.com/github/Sazzad-Hossain-Sobuj/uri_problem_solving_python/blob/master/Uri_1072.ipynb\" target=\"_parent\"><img src=\"https://colab.research.google.com/assets/colab-badge.svg\" alt=\"Open In Colab\"/></a>"
      ]
    },
    {
      "cell_type": "code",
      "source": [
        "N=int(input())\n",
        "inn = 0\n",
        "out = 0\n",
        "for i in range(N):\n",
        "  X = int(input())\n",
        "  if(X>=10 and X<=20):\n",
        "    inn+=1\n",
        "  else:\n",
        "    out+=1\n",
        "print(f'''{inn} in\n",
        "{out} out''')"
      ],
      "metadata": {
        "colab": {
          "base_uri": "https://localhost:8080/"
        },
        "id": "X32VQAYY3sqg",
        "outputId": "938bf039-427f-4e2a-b10f-ecad76dce44f"
      },
      "execution_count": 4,
      "outputs": [
        {
          "output_type": "stream",
          "name": "stdout",
          "text": [
            "4\n",
            "14\n",
            "123\n",
            "10\n",
            "-25\n",
            "2 in\n",
            "2 out\n"
          ]
        }
      ]
    },
    {
      "cell_type": "code",
      "source": [
        "N=int(input())\n",
        "inn = 0\n",
        "out = 0\n",
        "i = 0\n",
        "while(i<N-1):\n",
        "  X = int(input())\n",
        "  if(X>=10 and X<=20):\n",
        "    inn+=1\n",
        "  else:\n",
        "    out+=1\n",
        "    i+=1\n",
        "print(f'''{inn} in\n",
        "{out} out''')"
      ],
      "metadata": {
        "colab": {
          "base_uri": "https://localhost:8080/"
        },
        "id": "ZvNxTnxe7KWc",
        "outputId": "09a1531c-1f85-43cb-8963-0904bf45be89"
      },
      "execution_count": 8,
      "outputs": [
        {
          "output_type": "stream",
          "name": "stdout",
          "text": [
            "4\n",
            "10\n",
            "123\n",
            "-25\n",
            "24\n",
            "1 in\n",
            "3 out\n"
          ]
        }
      ]
    }
  ]
}