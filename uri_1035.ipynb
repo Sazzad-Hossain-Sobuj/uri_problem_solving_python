{
  "nbformat": 4,
  "nbformat_minor": 0,
  "metadata": {
    "colab": {
      "provenance": [],
      "authorship_tag": "ABX9TyMsM8scF6nJL087tqiBUYe6",
      "include_colab_link": true
    },
    "kernelspec": {
      "name": "python3",
      "display_name": "Python 3"
    },
    "language_info": {
      "name": "python"
    }
  },
  "cells": [
    {
      "cell_type": "markdown",
      "metadata": {
        "id": "view-in-github",
        "colab_type": "text"
      },
      "source": [
        "<a href=\"https://colab.research.google.com/github/Sazzad-Hossain-Sobuj/uri_problem_solving_python/blob/master/uri_1035.ipynb\" target=\"_parent\"><img src=\"https://colab.research.google.com/assets/colab-badge.svg\" alt=\"Open In Colab\"/></a>"
      ]
    },
    {
      "cell_type": "code",
      "execution_count": 6,
      "metadata": {
        "id": "IUEpdXKbg5gQ",
        "colab": {
          "base_uri": "https://localhost:8080/"
        },
        "outputId": "08491e6a-868f-460c-caeb-bbba0b0f5340"
      },
      "outputs": [
        {
          "output_type": "stream",
          "name": "stdout",
          "text": [
            "5 6 7 8\n",
            "Valores nao aceitos\n"
          ]
        }
      ],
      "source": [
        "A,B,C,D = list(map(int,(input().split())))\n",
        "if(B>C and D>A and (C+D)>(A+B) and C>0 and D>0 and A%2==0):\n",
        "  print('Valores aceitos')\n",
        "else:\n",
        "  print('Valores nao aceitos')"
      ]
    }
  ]
}