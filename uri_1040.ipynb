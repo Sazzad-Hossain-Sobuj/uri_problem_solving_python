{
  "nbformat": 4,
  "nbformat_minor": 0,
  "metadata": {
    "colab": {
      "provenance": [],
      "authorship_tag": "ABX9TyMok9EFL0tbXL/DTCUNckxS",
      "include_colab_link": true
    },
    "kernelspec": {
      "name": "python3",
      "display_name": "Python 3"
    },
    "language_info": {
      "name": "python"
    }
  },
  "cells": [
    {
      "cell_type": "markdown",
      "metadata": {
        "id": "view-in-github",
        "colab_type": "text"
      },
      "source": [
        "<a href=\"https://colab.research.google.com/github/Sazzad-Hossain-Sobuj/uri_problem_solving_python/blob/master/uri_1040.ipynb\" target=\"_parent\"><img src=\"https://colab.research.google.com/assets/colab-badge.svg\" alt=\"Open In Colab\"/></a>"
      ]
    },
    {
      "cell_type": "code",
      "execution_count": 1,
      "metadata": {
        "colab": {
          "base_uri": "https://localhost:8080/"
        },
        "id": "rXsZBGjNaf_a",
        "outputId": "bf6b2527-95ca-461a-9b35-035884336dcf"
      },
      "outputs": [
        {
          "output_type": "stream",
          "name": "stdout",
          "text": [
            "2.0 4.0 7.0 23.0\n",
            "Media: 6.7\n",
            "Aluno em exame.\n",
            "5\n",
            "Nota do exame: 5.0\n",
            "Aluno aprovado.\n",
            "Media final: 5.8\n"
          ]
        }
      ],
      "source": [
        "n1,n2,n3,n4=list(map(float,input().split()))\n",
        "a=(((n1*2)+(n2*3)+(n3*4)+(n4*1))/10);\n",
        "print(\"Media: %.1lf\"%a)\n",
        "if(a>=7.0):\n",
        "\tprint(\"Aluno aprovado.\")\n",
        "elif(a<5.0):\n",
        "\tprint(\"Aluno reprovado.\")\n",
        "elif(a>=5.0 and a<=6.9):\n",
        "\tprint(\"Aluno em exame.\")\n",
        "\tn5=float(input())\n",
        "\tprint(\"Nota do exame: %.1lf\"%n5)\n",
        "\tb=(a+n5)/2\n",
        "\tif(b>=5.0):\n",
        "\t\tprint(\"Aluno aprovado.\")\n",
        "\tif (b<=4.9):\n",
        "\t\t\tprint(\"Aluno reprovado.\")\n",
        "\tprint(\"Media final: %.1lf\"%b)"
      ]
    }
  ]
}