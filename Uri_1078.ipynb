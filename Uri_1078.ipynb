{
  "nbformat": 4,
  "nbformat_minor": 0,
  "metadata": {
    "colab": {
      "provenance": [],
      "authorship_tag": "ABX9TyMltJdOsv0/Bdkj4XDv9pt9",
      "include_colab_link": true
    },
    "kernelspec": {
      "name": "python3",
      "display_name": "Python 3"
    },
    "language_info": {
      "name": "python"
    }
  },
  "cells": [
    {
      "cell_type": "markdown",
      "metadata": {
        "id": "view-in-github",
        "colab_type": "text"
      },
      "source": [
        "<a href=\"https://colab.research.google.com/github/Sazzad-Hossain-Sobuj/uri_problem_solving_python/blob/master/Uri_1078.ipynb\" target=\"_parent\"><img src=\"https://colab.research.google.com/assets/colab-badge.svg\" alt=\"Open In Colab\"/></a>"
      ]
    },
    {
      "cell_type": "code",
      "execution_count": 7,
      "metadata": {
        "colab": {
          "base_uri": "https://localhost:8080/"
        },
        "id": "EkXWFWfOxXpR",
        "outputId": "d5f26da1-fe67-4f7b-e778-14d1de1905d0"
      },
      "outputs": [
        {
          "output_type": "stream",
          "name": "stdout",
          "text": [
            "140\n",
            "1 x 140 = 140\n",
            "2 x 140 = 280\n",
            "3 x 140 = 420\n",
            "4 x 140 = 560\n",
            "5 x 140 = 700\n",
            "6 x 140 = 840\n",
            "7 x 140 = 980\n",
            "8 x 140 = 1120\n",
            "9 x 140 = 1260\n",
            "10 x 140 = 1400\n"
          ]
        }
      ],
      "source": [
        "N = int(input())\n",
        "for i in range(1,N+1):\n",
        "  print(f'{i} x {N} = {i*N}')\n",
        "  if(i==10):\n",
        "    break"
      ]
    }
  ]
}