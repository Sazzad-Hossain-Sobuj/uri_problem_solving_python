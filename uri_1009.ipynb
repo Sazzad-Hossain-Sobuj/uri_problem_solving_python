{
  "nbformat": 4,
  "nbformat_minor": 0,
  "metadata": {
    "colab": {
      "provenance": [],
      "authorship_tag": "ABX9TyNNPDbLKtxr+AB6/G/dlcqO",
      "include_colab_link": true
    },
    "kernelspec": {
      "name": "python3",
      "display_name": "Python 3"
    },
    "language_info": {
      "name": "python"
    }
  },
  "cells": [
    {
      "cell_type": "markdown",
      "metadata": {
        "id": "view-in-github",
        "colab_type": "text"
      },
      "source": [
        "<a href=\"https://colab.research.google.com/github/Sazzad-Hossain-Sobuj/uri_problem_solving_python/blob/master/uri_1009.ipynb\" target=\"_parent\"><img src=\"https://colab.research.google.com/assets/colab-badge.svg\" alt=\"Open In Colab\"/></a>"
      ]
    },
    {
      "cell_type": "code",
      "execution_count": null,
      "metadata": {
        "colab": {
          "base_uri": "https://localhost:8080/"
        },
        "id": "OV4cWqNXTV2C",
        "outputId": "0368ec43-d5ba-4534-de33-06b8aeab5ff1"
      },
      "outputs": [
        {
          "output_type": "stream",
          "name": "stdout",
          "text": [
            "sazzad\n",
            "500.00\n",
            "1230.30\n",
            "TOTAL = R$ 684.54\n"
          ]
        }
      ],
      "source": [
        "name= input()\n",
        "salary= float(input())\n",
        "sale= float(input())\n",
        "total=salary+(sale*15/100)\n",
        "print(\"TOTAL = R$ %0.2f\"%total)"
      ]
    }
  ]
}