{
  "nbformat": 4,
  "nbformat_minor": 0,
  "metadata": {
    "colab": {
      "provenance": [],
      "authorship_tag": "ABX9TyMqD1K4KFp91nqynMYnwhCQ",
      "include_colab_link": true
    },
    "kernelspec": {
      "name": "python3",
      "display_name": "Python 3"
    },
    "language_info": {
      "name": "python"
    }
  },
  "cells": [
    {
      "cell_type": "markdown",
      "metadata": {
        "id": "view-in-github",
        "colab_type": "text"
      },
      "source": [
        "<a href=\"https://colab.research.google.com/github/Sazzad-Hossain-Sobuj/uri_problem_solving_python/blob/master/Untitled1.ipynb\" target=\"_parent\"><img src=\"https://colab.research.google.com/assets/colab-badge.svg\" alt=\"Open In Colab\"/></a>"
      ]
    },
    {
      "cell_type": "code",
      "execution_count": 2,
      "metadata": {
        "colab": {
          "base_uri": "https://localhost:8080/"
        },
        "id": "5QLs72K4GkZc",
        "outputId": "e8c6d9c8-52b5-46d5-c056-1002bbe86b08"
      },
      "outputs": [
        {
          "output_type": "stream",
          "name": "stdout",
          "text": [
            "I=1 J=60\n",
            "I=4 J=55\n",
            "I=7 J=50\n",
            "I=10 J=45\n",
            "I=13 J=40\n",
            "I=16 J=35\n",
            "I=19 J=30\n",
            "I=22 J=25\n",
            "I=25 J=20\n",
            "I=28 J=15\n",
            "I=31 J=10\n",
            "I=34 J=5\n",
            "I=37 J=0\n"
          ]
        }
      ],
      "source": [
        "i,j = 1,60\n",
        "while(j>=0):\n",
        "  print(f'I={i} J={j}')\n",
        "  i+=3\n",
        "  j-=5"
      ]
    }
  ]
}