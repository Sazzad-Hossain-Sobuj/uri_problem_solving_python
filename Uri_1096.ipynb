{
  "nbformat": 4,
  "nbformat_minor": 0,
  "metadata": {
    "colab": {
      "provenance": [],
      "authorship_tag": "ABX9TyPuz4nYcRWIU0+ObsJcbf1r",
      "include_colab_link": true
    },
    "kernelspec": {
      "name": "python3",
      "display_name": "Python 3"
    },
    "language_info": {
      "name": "python"
    }
  },
  "cells": [
    {
      "cell_type": "markdown",
      "metadata": {
        "id": "view-in-github",
        "colab_type": "text"
      },
      "source": [
        "<a href=\"https://colab.research.google.com/github/Sazzad-Hossain-Sobuj/uri_problem_solving_python/blob/master/Uri_1096.ipynb\" target=\"_parent\"><img src=\"https://colab.research.google.com/assets/colab-badge.svg\" alt=\"Open In Colab\"/></a>"
      ]
    },
    {
      "cell_type": "code",
      "source": [
        "for i in range(1,10,2):\n",
        "    for j in range(7,4,-1):\n",
        "        print(f\"I={i} J={j}\")"
      ],
      "metadata": {
        "colab": {
          "base_uri": "https://localhost:8080/"
        },
        "id": "Yb-JhVeMMUIV",
        "outputId": "f25b37fd-66ca-475a-ddcd-ac117bc0af60"
      },
      "execution_count": 11,
      "outputs": [
        {
          "output_type": "stream",
          "name": "stdout",
          "text": [
            "I=1 J=7\n",
            "I=1 J=6\n",
            "I=1 J=5\n",
            "I=3 J=7\n",
            "I=3 J=6\n",
            "I=3 J=5\n",
            "I=5 J=7\n",
            "I=5 J=6\n",
            "I=5 J=5\n",
            "I=7 J=7\n",
            "I=7 J=6\n",
            "I=7 J=5\n",
            "I=9 J=7\n",
            "I=9 J=6\n",
            "I=9 J=5\n"
          ]
        }
      ]
    },
    {
      "cell_type": "code",
      "source": [
        "i,j=1,7\n",
        "while(i<=9):\n",
        "  while(j>=5):\n",
        "    print(f'I={i} J={j}')\n",
        "    j-=1\n",
        "  i+=2\n"
      ],
      "metadata": {
        "colab": {
          "base_uri": "https://localhost:8080/"
        },
        "id": "VQrV2Nw9L-p_",
        "outputId": "a50d2fe4-c6e9-4911-b6d5-46b3c2fd3561"
      },
      "execution_count": null,
      "outputs": [
        {
          "output_type": "stream",
          "name": "stdout",
          "text": [
            "I=3 J=7\n",
            "I=5 J=6\n",
            "I=7 J=5\n"
          ]
        }
      ]
    }
  ]
}