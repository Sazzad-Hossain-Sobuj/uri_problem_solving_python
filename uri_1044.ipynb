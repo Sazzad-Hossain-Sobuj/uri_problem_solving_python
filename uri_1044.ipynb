{
  "nbformat": 4,
  "nbformat_minor": 0,
  "metadata": {
    "colab": {
      "provenance": [],
      "authorship_tag": "ABX9TyMAm17RdXjp7W5oZmqzzffN",
      "include_colab_link": true
    },
    "kernelspec": {
      "name": "python3",
      "display_name": "Python 3"
    },
    "language_info": {
      "name": "python"
    }
  },
  "cells": [
    {
      "cell_type": "markdown",
      "metadata": {
        "id": "view-in-github",
        "colab_type": "text"
      },
      "source": [
        "<a href=\"https://colab.research.google.com/github/Sazzad-Hossain-Sobuj/uri_problem_solving_python/blob/master/uri_1044.ipynb\" target=\"_parent\"><img src=\"https://colab.research.google.com/assets/colab-badge.svg\" alt=\"Open In Colab\"/></a>"
      ]
    },
    {
      "cell_type": "code",
      "execution_count": 5,
      "metadata": {
        "id": "oe8Z8YbjGr9Z",
        "colab": {
          "base_uri": "https://localhost:8080/"
        },
        "outputId": "16adc827-4a1a-4c3a-8ed8-a23ef9298646"
      },
      "outputs": [
        {
          "output_type": "stream",
          "name": "stdout",
          "text": [
            "6 25\n",
            "Nao sao Multiplos\n"
          ]
        }
      ],
      "source": [
        "A,B = map(int,input().split())\n",
        "if(A%B==0 or B%A==0):\n",
        "  print('Sao Multiplos')\n",
        "else:\n",
        "  print('Nao sao Multiplos')"
      ]
    }
  ]
}